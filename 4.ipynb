{
 "cells": [
  {
   "cell_type": "code",
   "execution_count": 1,
   "id": "2a25c701-1c01-4b16-9b59-b6862d137b06",
   "metadata": {},
   "outputs": [],
   "source": [
    "name=\"Dasta science Masters\""
   ]
  },
  {
   "cell_type": "code",
   "execution_count": 2,
   "id": "84a62433-aec7-4bd2-8b87-17a48849b3a2",
   "metadata": {},
   "outputs": [
    {
     "data": {
      "text/plain": [
       "'dASTA SCIENCE mASTERS'"
      ]
     },
     "execution_count": 2,
     "metadata": {},
     "output_type": "execute_result"
    }
   ],
   "source": [
    "name.swapcase()"
   ]
  },
  {
   "cell_type": "code",
   "execution_count": 3,
   "id": "9ca1a4fc-9640-41fc-b71a-5c2651a32fcb",
   "metadata": {},
   "outputs": [
    {
     "data": {
      "text/plain": [
       "'Dasta Science Masters'"
      ]
     },
     "execution_count": 3,
     "metadata": {},
     "output_type": "execute_result"
    }
   ],
   "source": [
    "name.title()"
   ]
  },
  {
   "cell_type": "code",
   "execution_count": 4,
   "id": "20f2bd0f-dacd-4d3a-b76a-2b13ea54fc95",
   "metadata": {},
   "outputs": [
    {
     "data": {
      "text/plain": [
       "'Dasta science masters'"
      ]
     },
     "execution_count": 4,
     "metadata": {},
     "output_type": "execute_result"
    }
   ],
   "source": [
    "name.capitalize()"
   ]
  },
  {
   "cell_type": "code",
   "execution_count": 5,
   "id": "5522adea-4dce-440a-893e-c6a5466f5a97",
   "metadata": {},
   "outputs": [],
   "source": [
    "## Reversing a string"
   ]
  },
  {
   "cell_type": "code",
   "execution_count": 6,
   "id": "fcaaa734-9aea-4281-ad0f-76e6a2d480da",
   "metadata": {},
   "outputs": [
    {
     "data": {
      "text/plain": [
       "'sretsaM ecneics atsaD'"
      ]
     },
     "execution_count": 6,
     "metadata": {},
     "output_type": "execute_result"
    }
   ],
   "source": [
    "name[::-1]"
   ]
  },
  {
   "cell_type": "code",
   "execution_count": 9,
   "id": "e13a4ba5-6ba7-4155-870f-856dc0b75cc3",
   "metadata": {},
   "outputs": [
    {
     "data": {
      "text/plain": [
       "'a b c d'"
      ]
     },
     "execution_count": 9,
     "metadata": {},
     "output_type": "execute_result"
    }
   ],
   "source": [
    "\" \" .join(\"abcd\")"
   ]
  },
  {
   "cell_type": "code",
   "execution_count": 10,
   "id": "1cdeb45b-2f4e-4b49-b7e9-d50f305b0695",
   "metadata": {},
   "outputs": [
    {
     "data": {
      "text/plain": [
       "'asbscsd'"
      ]
     },
     "execution_count": 10,
     "metadata": {},
     "output_type": "execute_result"
    }
   ],
   "source": [
    "\"s\".join(\"abcd\")"
   ]
  },
  {
   "cell_type": "code",
   "execution_count": 11,
   "id": "52d6269f-bd67-4be0-9c15-7758e3239979",
   "metadata": {},
   "outputs": [
    {
     "data": {
      "text/plain": [
       "'s r e t s a M   e c n e i c s   a t s a D'"
      ]
     },
     "execution_count": 11,
     "metadata": {},
     "output_type": "execute_result"
    }
   ],
   "source": [
    "\" \".join(reversed(name))"
   ]
  },
  {
   "cell_type": "code",
   "execution_count": 13,
   "id": "69e55669-686f-404f-9e26-f8c9eaa7d926",
   "metadata": {},
   "outputs": [
    {
     "data": {
      "text/plain": [
       "'a n d'"
      ]
     },
     "execution_count": 13,
     "metadata": {},
     "output_type": "execute_result"
    }
   ],
   "source": [
    "\" \".join(\"and\")"
   ]
  },
  {
   "cell_type": "code",
   "execution_count": 14,
   "id": "64b24c91-e277-44d2-bd74-5e48f7c13266",
   "metadata": {},
   "outputs": [
    {
     "data": {
      "text/plain": [
       "'dData SciencenData Sciencea'"
      ]
     },
     "execution_count": 14,
     "metadata": {},
     "output_type": "execute_result"
    }
   ],
   "source": [
    "\"Data Science\".join(reversed(\"and\"))"
   ]
  },
  {
   "cell_type": "code",
   "execution_count": 16,
   "id": "25cbb82c-7881-4fbd-988d-6461db483aad",
   "metadata": {},
   "outputs": [
    {
     "data": {
      "text/plain": [
       "<reversed at 0x7fb47e7f29b0>"
      ]
     },
     "execution_count": 16,
     "metadata": {},
     "output_type": "execute_result"
    }
   ],
   "source": [
    "reversed(\"ant\")"
   ]
  },
  {
   "cell_type": "code",
   "execution_count": 17,
   "id": "34da7528-8d2e-4cd4-923c-7d068f8428d1",
   "metadata": {},
   "outputs": [
    {
     "data": {
      "text/plain": [
       "['t', 'n', 'a']"
      ]
     },
     "execution_count": 17,
     "metadata": {},
     "output_type": "execute_result"
    }
   ],
   "source": [
    "list(reversed(\"ant\"))"
   ]
  },
  {
   "cell_type": "code",
   "execution_count": 18,
   "id": "9f3bdbfa-e5b5-4cb2-92fa-275a6266a478",
   "metadata": {},
   "outputs": [
    {
     "data": {
      "text/plain": [
       "'<reversed object at 0x7fb47e60e830>'"
      ]
     },
     "execution_count": 18,
     "metadata": {},
     "output_type": "execute_result"
    }
   ],
   "source": [
    "str(reversed(\"ant\"))"
   ]
  },
  {
   "cell_type": "code",
   "execution_count": 20,
   "id": "5575dbbf-8c5b-462d-a244-710ab39e248f",
   "metadata": {},
   "outputs": [
    {
     "data": {
      "text/plain": [
       "['t', 'n', 'a']"
      ]
     },
     "execution_count": 20,
     "metadata": {},
     "output_type": "execute_result"
    }
   ],
   "source": [
    "##typecasting\n",
    "\n",
    "list(reversed(\"ant\"))"
   ]
  },
  {
   "cell_type": "code",
   "execution_count": 8,
   "id": "8488efca-379f-4e1d-9b70-744ccabc0516",
   "metadata": {},
   "outputs": [
    {
     "name": "stdout",
     "output_type": "stream",
     "text": [
      "sretsaM ecneics atsaD"
     ]
    }
   ],
   "source": [
    "for i in list(reversed(name)):\n",
    "    print(i,end=\"\")\n"
   ]
  },
  {
   "cell_type": "code",
   "execution_count": 10,
   "id": "bef5e561-4a4f-4d6f-b013-673b54ac93e2",
   "metadata": {},
   "outputs": [
    {
     "name": "stdout",
     "output_type": "stream",
     "text": [
      "s r e t s a M   e c n e i c s   a t s a D "
     ]
    }
   ],
   "source": [
    "for i in list(reversed(name)):\n",
    "    print(i,end=\" \")"
   ]
  },
  {
   "cell_type": "code",
   "execution_count": 12,
   "id": "4ba34f8e-b36d-4491-a512-c52e29ceed7b",
   "metadata": {},
   "outputs": [],
   "source": [
    "## Removing charachter from the end of the string\n"
   ]
  },
  {
   "cell_type": "code",
   "execution_count": 13,
   "id": "4f084242-d87a-4d17-adae-8be59ddff6be",
   "metadata": {},
   "outputs": [],
   "source": [
    "string_a=\" pwskills \""
   ]
  },
  {
   "cell_type": "code",
   "execution_count": 14,
   "id": "f8adbc13-783e-47b0-98b7-ccb490c867c5",
   "metadata": {},
   "outputs": [
    {
     "data": {
      "text/plain": [
       "'pwskills'"
      ]
     },
     "execution_count": 14,
     "metadata": {},
     "output_type": "execute_result"
    }
   ],
   "source": [
    "string_a.strip()"
   ]
  },
  {
   "cell_type": "code",
   "execution_count": 15,
   "id": "9251f432-2699-4bc1-9746-5a751272d99f",
   "metadata": {},
   "outputs": [
    {
     "data": {
      "text/plain": [
       "'pwskills '"
      ]
     },
     "execution_count": 15,
     "metadata": {},
     "output_type": "execute_result"
    }
   ],
   "source": [
    "string_a.lstrip()"
   ]
  },
  {
   "cell_type": "code",
   "execution_count": 16,
   "id": "aa5515b6-1ed8-4fb8-a465-5f456dc10a83",
   "metadata": {},
   "outputs": [
    {
     "data": {
      "text/plain": [
       "' pwskills'"
      ]
     },
     "execution_count": 16,
     "metadata": {},
     "output_type": "execute_result"
    }
   ],
   "source": [
    "string_a.rstrip()"
   ]
  },
  {
   "cell_type": "code",
   "execution_count": 3,
   "id": "03bd15ac-dd81-4fc1-9129-532850d3ffe7",
   "metadata": {},
   "outputs": [],
   "source": [
    "string_n=\" Greeting to London\""
   ]
  },
  {
   "cell_type": "code",
   "execution_count": 4,
   "id": "ef325804-8f5c-4806-8d56-c5303d6ad3f2",
   "metadata": {},
   "outputs": [
    {
     "data": {
      "text/plain": [
       "' Greeting from London'"
      ]
     },
     "execution_count": 4,
     "metadata": {},
     "output_type": "execute_result"
    }
   ],
   "source": [
    "string_n.replace(\"to\",\"from\")"
   ]
  },
  {
   "cell_type": "code",
   "execution_count": 9,
   "id": "6e5f1658-a2ab-433e-b389-fd30a5470693",
   "metadata": {},
   "outputs": [],
   "source": [
    "string_n=\"test@gmail.com\""
   ]
  },
  {
   "cell_type": "code",
   "execution_count": 11,
   "id": "f65eba16-67d1-4cc9-a49a-64c95f02c842",
   "metadata": {},
   "outputs": [
    {
     "data": {
      "text/plain": [
       "'test gmail.com'"
      ]
     },
     "execution_count": 11,
     "metadata": {},
     "output_type": "execute_result"
    }
   ],
   "source": [
    "string_n.replace(\"@\", \" \")"
   ]
  },
  {
   "cell_type": "code",
   "execution_count": 12,
   "id": "fbaa7cd8-73e0-4ff8-9b84-17d269749157",
   "metadata": {},
   "outputs": [
    {
     "data": {
      "text/plain": [
       "'test gmail.com'"
      ]
     },
     "execution_count": 12,
     "metadata": {},
     "output_type": "execute_result"
    }
   ],
   "source": [
    "var_a=string_n.replace(\"@\", \" \")\n",
    "var_a"
   ]
  },
  {
   "cell_type": "code",
   "execution_count": 13,
   "id": "0c7076e9-4baf-4648-a0ca-a719e1540fb7",
   "metadata": {},
   "outputs": [
    {
     "data": {
      "text/plain": [
       "'hello world'"
      ]
     },
     "execution_count": 13,
     "metadata": {},
     "output_type": "execute_result"
    }
   ],
   "source": [
    "\"hello world\""
   ]
  },
  {
   "cell_type": "code",
   "execution_count": 14,
   "id": "24cba653-3b8e-442e-8690-4990078bcc25",
   "metadata": {},
   "outputs": [
    {
     "data": {
      "text/plain": [
       "'hello \\nworld'"
      ]
     },
     "execution_count": 14,
     "metadata": {},
     "output_type": "execute_result"
    }
   ],
   "source": [
    "'hello \\nworld'"
   ]
  },
  {
   "cell_type": "code",
   "execution_count": 15,
   "id": "1f28b7b0-5d50-439b-9fd1-e09a2eab9728",
   "metadata": {},
   "outputs": [
    {
     "data": {
      "text/plain": [
       "'hello   world'"
      ]
     },
     "execution_count": 15,
     "metadata": {},
     "output_type": "execute_result"
    }
   ],
   "source": [
    "##tab \\t\n",
    "\n",
    "\"hello \\tworld\".expandtabs()"
   ]
  },
  {
   "cell_type": "code",
   "execution_count": 2,
   "id": "e583870d-6931-45e1-b7ea-6cf6c67f4d0b",
   "metadata": {},
   "outputs": [],
   "source": [
    "str1=\"Welcome to Python.Welcome to Dat cience Masters\" "
   ]
  },
  {
   "cell_type": "code",
   "execution_count": 3,
   "id": "acd8e385-2db9-41cc-b22d-96b8c40e1814",
   "metadata": {},
   "outputs": [
    {
     "data": {
      "text/plain": [
       "'Welcome to Python.Welcome to Data Science Masters'"
      ]
     },
     "execution_count": 3,
     "metadata": {},
     "output_type": "execute_result"
    }
   ],
   "source": [
    "str1.replace(\"Dat cience\",\"Data Science\")"
   ]
  },
  {
   "cell_type": "code",
   "execution_count": 4,
   "id": "edd62276-8473-4dc3-aa0a-357570345c68",
   "metadata": {},
   "outputs": [
    {
     "data": {
      "text/plain": [
       "'Welcome to Python.Welcome to Data Science Masters'"
      ]
     },
     "execution_count": 4,
     "metadata": {},
     "output_type": "execute_result"
    }
   ],
   "source": [
    "str1.replace(\"Dat\",\"Data\").replace(\"cience\",\"Science\")"
   ]
  },
  {
   "cell_type": "code",
   "execution_count": 5,
   "id": "28cad470-40b8-49c8-b6b9-23f8cb1c9a43",
   "metadata": {},
   "outputs": [
    {
     "data": {
      "text/plain": [
       "False"
      ]
     },
     "execution_count": 5,
     "metadata": {},
     "output_type": "execute_result"
    }
   ],
   "source": [
    "str1.isupper()"
   ]
  },
  {
   "cell_type": "code",
   "execution_count": 6,
   "id": "8f1a0af5-5c5c-406c-94b6-724827743e77",
   "metadata": {},
   "outputs": [],
   "source": [
    "str1=\"SWATI\""
   ]
  },
  {
   "cell_type": "code",
   "execution_count": 7,
   "id": "399f6608-2ceb-4b40-bbfb-0f2cc66c2040",
   "metadata": {},
   "outputs": [
    {
     "data": {
      "text/plain": [
       "True"
      ]
     },
     "execution_count": 7,
     "metadata": {},
     "output_type": "execute_result"
    }
   ],
   "source": [
    "str1.isupper()"
   ]
  },
  {
   "cell_type": "code",
   "execution_count": 8,
   "id": "69be754f-51e1-4497-befc-93b4d04d041d",
   "metadata": {},
   "outputs": [
    {
     "data": {
      "text/plain": [
       "False"
      ]
     },
     "execution_count": 8,
     "metadata": {},
     "output_type": "execute_result"
    }
   ],
   "source": [
    "str1.islower()"
   ]
  },
  {
   "cell_type": "code",
   "execution_count": 9,
   "id": "0b60c3c8-d453-466d-8c9c-9ddac00bf6a1",
   "metadata": {},
   "outputs": [
    {
     "data": {
      "text/plain": [
       "False"
      ]
     },
     "execution_count": 9,
     "metadata": {},
     "output_type": "execute_result"
    }
   ],
   "source": [
    "str1.isspace()"
   ]
  },
  {
   "cell_type": "code",
   "execution_count": 10,
   "id": "ae391259-f217-4090-9f9b-de724c1d1c02",
   "metadata": {},
   "outputs": [
    {
     "data": {
      "text/plain": [
       "True"
      ]
     },
     "execution_count": 10,
     "metadata": {},
     "output_type": "execute_result"
    }
   ],
   "source": [
    "' '.isspace()"
   ]
  },
  {
   "cell_type": "code",
   "execution_count": 13,
   "id": "f9f493c7-b6f5-4584-827d-d49582894e2c",
   "metadata": {},
   "outputs": [],
   "source": [
    "if str1.isspace():\n",
    "    print(\"Hello\")"
   ]
  },
  {
   "cell_type": "code",
   "execution_count": 14,
   "id": "b53fa871-b283-4a85-adef-5d998903ca2f",
   "metadata": {},
   "outputs": [
    {
     "name": "stdout",
     "output_type": "stream",
     "text": [
      "Hello\n"
     ]
    }
   ],
   "source": [
    "if ' '.isspace():\n",
    "    print(\"Hello\")"
   ]
  },
  {
   "cell_type": "code",
   "execution_count": 15,
   "id": "330fccb6-da01-428c-a72e-6fe592c15b65",
   "metadata": {},
   "outputs": [],
   "source": [
    "str2=\"skillset\""
   ]
  },
  {
   "cell_type": "code",
   "execution_count": 16,
   "id": "2f1ba610-3881-4141-9538-256e4cd3dd39",
   "metadata": {},
   "outputs": [
    {
     "data": {
      "text/plain": [
       "True"
      ]
     },
     "execution_count": 16,
     "metadata": {},
     "output_type": "execute_result"
    }
   ],
   "source": [
    "str2.endswith(\"t\")"
   ]
  },
  {
   "cell_type": "code",
   "execution_count": 17,
   "id": "e6b7370f-16df-4ec8-89c0-7de5ceaa5697",
   "metadata": {},
   "outputs": [
    {
     "data": {
      "text/plain": [
       "True"
      ]
     },
     "execution_count": 17,
     "metadata": {},
     "output_type": "execute_result"
    }
   ],
   "source": [
    "str2.startswith('s')"
   ]
  },
  {
   "cell_type": "code",
   "execution_count": 18,
   "id": "e471eb5c-0ed5-46b4-8db8-e6936741c60c",
   "metadata": {},
   "outputs": [],
   "source": [
    "## check if all the charachters in a string is aphanumeric\n",
    "\n",
    "a=\"abcd1234\""
   ]
  },
  {
   "cell_type": "code",
   "execution_count": 20,
   "id": "a246e355-88d0-44f6-bae5-aae32b93bad2",
   "metadata": {},
   "outputs": [
    {
     "data": {
      "text/plain": [
       "True"
      ]
     },
     "execution_count": 20,
     "metadata": {},
     "output_type": "execute_result"
    }
   ],
   "source": [
    "a.isalnum()"
   ]
  },
  {
   "cell_type": "code",
   "execution_count": 40,
   "id": "6fa241e8-bd26-4e6b-b39d-a576b73095be",
   "metadata": {},
   "outputs": [
    {
     "name": "stdout",
     "output_type": "stream",
     "text": [
      "a\n",
      "b\n",
      "c\n",
      "d\n",
      "1\n",
      "2\n",
      "3\n",
      "4\n"
     ]
    }
   ],
   "source": [
    "  for i in a:\n",
    "        print(i)\n",
    "    "
   ]
  },
  {
   "cell_type": "code",
   "execution_count": 46,
   "id": "16d0fbcb-3710-4d86-8cee-0bb0208b832b",
   "metadata": {},
   "outputs": [
    {
     "name": "stdout",
     "output_type": "stream",
     "text": [
      "8\n"
     ]
    }
   ],
   "source": [
    "## To count the number of charachters in the string\n",
    "str2=\"skillset\"\n",
    "count=0\n",
    "for i in str2:\n",
    "    count=count+1\n",
    "print(count)\n"
   ]
  },
  {
   "cell_type": "code",
   "execution_count": 47,
   "id": "5ebf7a3f-b6b8-4b55-9703-67bdce548326",
   "metadata": {},
   "outputs": [
    {
     "data": {
      "text/plain": [
       "8"
      ]
     },
     "execution_count": 47,
     "metadata": {},
     "output_type": "execute_result"
    }
   ],
   "source": [
    "len(str2)"
   ]
  },
  {
   "cell_type": "code",
   "execution_count": 48,
   "id": "c18a14ef-652e-4283-9426-d80d01af28b0",
   "metadata": {},
   "outputs": [
    {
     "name": "stdout",
     "output_type": "stream",
     "text": [
      "s\n",
      "k\n",
      "i\n",
      "l\n",
      "l\n",
      "s\n",
      "e\n",
      "t\n"
     ]
    }
   ],
   "source": [
    "for i in str2:\n",
    "    print(i)"
   ]
  },
  {
   "cell_type": "code",
   "execution_count": 50,
   "id": "1fb1b5f7-1a05-424b-9022-f861658593d6",
   "metadata": {},
   "outputs": [
    {
     "name": "stdout",
     "output_type": "stream",
     "text": [
      "s\n",
      "k\n",
      "i\n",
      "l\n",
      "l\n",
      "s\n",
      "e\n",
      "t\n"
     ]
    }
   ],
   "source": [
    "for i in range(len(str2)):\n",
    "    print(str2[i])"
   ]
  },
  {
   "cell_type": "code",
   "execution_count": 51,
   "id": "f30c85a7-6cac-44b9-bf19-654783639543",
   "metadata": {},
   "outputs": [
    {
     "data": {
      "text/plain": [
       "range(0, 8)"
      ]
     },
     "execution_count": 51,
     "metadata": {},
     "output_type": "execute_result"
    }
   ],
   "source": [
    "range(len(str2))"
   ]
  },
  {
   "cell_type": "code",
   "execution_count": 52,
   "id": "c49546a9-bad0-420a-8d5c-0b7ed43cc424",
   "metadata": {},
   "outputs": [
    {
     "name": "stdout",
     "output_type": "stream",
     "text": [
      "0 = s\n",
      "1 = k\n",
      "2 = i\n",
      "3 = l\n",
      "4 = l\n",
      "5 = s\n",
      "6 = e\n",
      "7 = t\n"
     ]
    }
   ],
   "source": [
    "for i in range(len(str2)):\n",
    "    print(i,'=',str2[i])"
   ]
  },
  {
   "cell_type": "code",
   "execution_count": 53,
   "id": "d2cac5c6-1eb2-4b9c-a5dc-fab92bfcff77",
   "metadata": {},
   "outputs": [],
   "source": [
    "## we can use index to iterate string reverse direction"
   ]
  },
  {
   "cell_type": "code",
   "execution_count": 61,
   "id": "28bc7e7b-4530-4bd8-bc61-b1ba82751764",
   "metadata": {},
   "outputs": [
    {
     "data": {
      "text/plain": [
       "7"
      ]
     },
     "execution_count": 61,
     "metadata": {},
     "output_type": "execute_result"
    }
   ],
   "source": [
    "len(str2)-1"
   ]
  },
  {
   "cell_type": "code",
   "execution_count": 63,
   "id": "80effc25-057a-481d-8199-2e890ba6d5ae",
   "metadata": {},
   "outputs": [
    {
     "name": "stdout",
     "output_type": "stream",
     "text": [
      "t\n",
      "e\n",
      "s\n",
      "l\n",
      "l\n",
      "i\n",
      "k\n",
      "s\n"
     ]
    }
   ],
   "source": [
    "for i in range(len(str2)-1,-1,-1):\n",
    "    print(str2[i])"
   ]
  },
  {
   "cell_type": "code",
   "execution_count": null,
   "id": "8f5bc73e-c53b-4f2e-aa8d-174345e7cee7",
   "metadata": {},
   "outputs": [],
   "source": [
    "for i in range(len(str2)-1,-1,-2):\n",
    "    print(str2[i])"
   ]
  },
  {
   "cell_type": "code",
   "execution_count": null,
   "id": "731ff158-29f5-4fc1-b4f6-c02fc17c26f6",
   "metadata": {},
   "outputs": [],
   "source": [
    "##\n",
    "string=\"Mathematics\""
   ]
  },
  {
   "cell_type": "code",
   "execution_count": null,
   "id": "167d92d1-a921-49bf-8ef1-e06fa118b295",
   "metadata": {},
   "outputs": [],
   "source": [
    "ch=len(string)-1\n",
    "while ch>=0:\n",
    "    print(string[ch])\n",
    "    ch=ch-1"
   ]
  },
  {
   "cell_type": "code",
   "execution_count": null,
   "id": "9ca2c465-d178-4cc4-9a71-2d6090aef33f",
   "metadata": {},
   "outputs": [],
   "source": [
    "string[7]"
   ]
  },
  {
   "cell_type": "code",
   "execution_count": null,
   "id": "ac6b8d8b-4976-4829-a446-8baa84096cb8",
   "metadata": {},
   "outputs": [],
   "source": []
  },
  {
   "cell_type": "code",
   "execution_count": null,
   "id": "8211dd50-5fd5-4a27-ac06-e71259fedfe6",
   "metadata": {},
   "outputs": [],
   "source": []
  },
  {
   "cell_type": "code",
   "execution_count": null,
   "id": "e746f17d-7958-430d-a03b-5f96d4df691f",
   "metadata": {},
   "outputs": [],
   "source": []
  },
  {
   "cell_type": "code",
   "execution_count": null,
   "id": "77ecace3-96e5-4215-a389-06a14537df5f",
   "metadata": {},
   "outputs": [],
   "source": []
  },
  {
   "cell_type": "code",
   "execution_count": null,
   "id": "22e087d2-b602-4ae2-9b1d-d75f6913e332",
   "metadata": {},
   "outputs": [],
   "source": []
  },
  {
   "cell_type": "code",
   "execution_count": null,
   "id": "c741b13f-4f18-41df-9930-70a4de236026",
   "metadata": {},
   "outputs": [],
   "source": []
  },
  {
   "cell_type": "code",
   "execution_count": null,
   "id": "d2726068-5e3d-4ae5-94f1-7eccfc66e94c",
   "metadata": {},
   "outputs": [],
   "source": [
    "string=\"Mathematics\"\n",
    "ch=len(string)-1\n",
    "while ch>=0:\n",
    "    print(string[ch])\n",
    "    ch=ch-1"
   ]
  },
  {
   "cell_type": "code",
   "execution_count": null,
   "id": "250d09b4-21fb-40e2-829c-a32b8cdc236d",
   "metadata": {},
   "outputs": [],
   "source": []
  },
  {
   "cell_type": "code",
   "execution_count": null,
   "id": "2c202c23-2f08-4230-9f76-c0b475e94704",
   "metadata": {},
   "outputs": [],
   "source": []
  },
  {
   "cell_type": "code",
   "execution_count": null,
   "id": "00948789-a9ee-45f0-a314-995284585022",
   "metadata": {},
   "outputs": [],
   "source": []
  },
  {
   "cell_type": "code",
   "execution_count": null,
   "id": "400a6595-5fa9-499a-bb48-00bfe4ca9e92",
   "metadata": {},
   "outputs": [],
   "source": []
  },
  {
   "cell_type": "code",
   "execution_count": null,
   "id": "f57c2ecd-fcb3-4245-a8c7-834999122382",
   "metadata": {},
   "outputs": [],
   "source": []
  },
  {
   "cell_type": "code",
   "execution_count": null,
   "id": "1dadef50-7064-4429-8d1b-17594bd2ddeb",
   "metadata": {},
   "outputs": [],
   "source": []
  },
  {
   "cell_type": "code",
   "execution_count": null,
   "id": "44db7f72-9259-46be-a7bd-c305bfd61d7e",
   "metadata": {},
   "outputs": [],
   "source": []
  },
  {
   "cell_type": "code",
   "execution_count": null,
   "id": "4d2ce7ae-f457-4dff-9f1d-032dd21d6172",
   "metadata": {},
   "outputs": [],
   "source": []
  },
  {
   "cell_type": "code",
   "execution_count": null,
   "id": "09eedbc8-3732-45a9-a4d7-7312f43ee51c",
   "metadata": {},
   "outputs": [],
   "source": []
  },
  {
   "cell_type": "code",
   "execution_count": null,
   "id": "0664b599-17a3-4f19-8d33-1328b1cb6307",
   "metadata": {},
   "outputs": [],
   "source": []
  },
  {
   "cell_type": "code",
   "execution_count": null,
   "id": "92d5651c-3a9a-412b-b8a8-c7be4a3d4211",
   "metadata": {},
   "outputs": [],
   "source": [
    "\n",
    "\n",
    "\n",
    "\n"
   ]
  }
 ],
 "metadata": {
  "kernelspec": {
   "display_name": "Python 3 (ipykernel)",
   "language": "python",
   "name": "python3"
  },
  "language_info": {
   "codemirror_mode": {
    "name": "ipython",
    "version": 3
   },
   "file_extension": ".py",
   "mimetype": "text/x-python",
   "name": "python",
   "nbconvert_exporter": "python",
   "pygments_lexer": "ipython3",
   "version": "3.10.8"
  }
 },
 "nbformat": 4,
 "nbformat_minor": 5
}
