{
 "cells": [
  {
   "cell_type": "code",
   "execution_count": 1,
   "id": "a23298f0-3d88-43c0-b733-13f1ba2e27ab",
   "metadata": {},
   "outputs": [],
   "source": [
    "a=10"
   ]
  },
  {
   "cell_type": "code",
   "execution_count": 3,
   "id": "7826dfe7-595e-4072-a5a6-b39458760439",
   "metadata": {},
   "outputs": [],
   "source": [
    "a='c'"
   ]
  },
  {
   "cell_type": "code",
   "execution_count": 4,
   "id": "d6a23986-a15b-419c-912d-05108d4cc0da",
   "metadata": {},
   "outputs": [
    {
     "data": {
      "text/plain": [
       "str"
      ]
     },
     "execution_count": 4,
     "metadata": {},
     "output_type": "execute_result"
    }
   ],
   "source": [
    "type(a)"
   ]
  },
  {
   "cell_type": "code",
   "execution_count": 5,
   "id": "1f0f9623-a173-4e94-9366-cc91cc782c4b",
   "metadata": {},
   "outputs": [
    {
     "data": {
      "text/plain": [
       "int"
      ]
     },
     "execution_count": 5,
     "metadata": {},
     "output_type": "execute_result"
    }
   ],
   "source": [
    "int"
   ]
  },
  {
   "cell_type": "code",
   "execution_count": 6,
   "id": "bba81c00-6168-4c6d-91b6-8e8fc46fda94",
   "metadata": {},
   "outputs": [
    {
     "data": {
      "text/plain": [
       "0"
      ]
     },
     "execution_count": 6,
     "metadata": {},
     "output_type": "execute_result"
    }
   ],
   "source": [
    "int(0)"
   ]
  },
  {
   "cell_type": "code",
   "execution_count": 8,
   "id": "edb86c00-b6ed-46cf-9e17-733a0dc3609d",
   "metadata": {},
   "outputs": [
    {
     "data": {
      "text/plain": [
       "123"
      ]
     },
     "execution_count": 8,
     "metadata": {},
     "output_type": "execute_result"
    }
   ],
   "source": [
    "int('123')"
   ]
  },
  {
   "cell_type": "code",
   "execution_count": 9,
   "id": "1e58b5b1-f99b-4e82-bd87-6cc0bb01569c",
   "metadata": {},
   "outputs": [
    {
     "ename": "ValueError",
     "evalue": "invalid literal for int() with base 10: 'abc'",
     "output_type": "error",
     "traceback": [
      "\u001b[0;31m---------------------------------------------------------------------------\u001b[0m",
      "\u001b[0;31mValueError\u001b[0m                                Traceback (most recent call last)",
      "Cell \u001b[0;32mIn[9], line 1\u001b[0m\n\u001b[0;32m----> 1\u001b[0m \u001b[38;5;28;43mint\u001b[39;49m\u001b[43m(\u001b[49m\u001b[38;5;124;43m\"\u001b[39;49m\u001b[38;5;124;43mabc\u001b[39;49m\u001b[38;5;124;43m\"\u001b[39;49m\u001b[43m)\u001b[49m\n",
      "\u001b[0;31mValueError\u001b[0m: invalid literal for int() with base 10: 'abc'"
     ]
    }
   ],
   "source": [
    "int(\"abc\")"
   ]
  },
  {
   "cell_type": "code",
   "execution_count": 10,
   "id": "d3f6d39a-3fb7-4758-b753-3bd65ecc0d55",
   "metadata": {},
   "outputs": [
    {
     "name": "stdout",
     "output_type": "stream",
     "text": [
      "Hello World\n"
     ]
    }
   ],
   "source": [
    "print('Hello World')"
   ]
  },
  {
   "cell_type": "code",
   "execution_count": 11,
   "id": "9f091713-f3dc-4acf-b40a-75f1c3b52fa3",
   "metadata": {},
   "outputs": [
    {
     "name": "stdout",
     "output_type": "stream",
     "text": [
      "123\n"
     ]
    }
   ],
   "source": [
    "print(123)"
   ]
  },
  {
   "cell_type": "code",
   "execution_count": 12,
   "id": "541338a3-201f-40e4-9ca8-ed202bd2a77d",
   "metadata": {},
   "outputs": [
    {
     "name": "stdout",
     "output_type": "stream",
     "text": [
      "13\n"
     ]
    }
   ],
   "source": [
    "print('13')"
   ]
  },
  {
   "cell_type": "code",
   "execution_count": 13,
   "id": "b2bf5c96-9946-4059-bd70-4377bcd42cb7",
   "metadata": {},
   "outputs": [
    {
     "name": "stdout",
     "output_type": "stream",
     "text": [
      "My age is :  30\n"
     ]
    }
   ],
   "source": [
    "age=30\n",
    "print( \"My age is : \", age)"
   ]
  },
  {
   "cell_type": "code",
   "execution_count": 16,
   "id": "265fe703-d91c-4004-a74e-c5528f6634f4",
   "metadata": {},
   "outputs": [
    {
     "name": "stdout",
     "output_type": "stream",
     "text": [
      "My age is: 30\n"
     ]
    }
   ],
   "source": [
    "age=30\n",
    "print( \"My age is:\",age)"
   ]
  },
  {
   "cell_type": "code",
   "execution_count": 17,
   "id": "1a6632d1-e9e7-4f49-bf4f-a99b4182f2ed",
   "metadata": {},
   "outputs": [
    {
     "name": "stdout",
     "output_type": "stream",
     "text": [
      "My age is: {age}\n"
     ]
    }
   ],
   "source": [
    "print(\"My age is: {age}\")"
   ]
  },
  {
   "cell_type": "code",
   "execution_count": null,
   "id": "1c7d32c0-61cf-4217-a576-37ddce188c91",
   "metadata": {},
   "outputs": [],
   "source": [
    "# f for formatting\n",
    "## f string"
   ]
  },
  {
   "cell_type": "code",
   "execution_count": 18,
   "id": "388ee329-1789-4a25-8646-32fcc293456c",
   "metadata": {},
   "outputs": [
    {
     "name": "stdout",
     "output_type": "stream",
     "text": [
      "My age is: 30\n"
     ]
    }
   ],
   "source": [
    "print(f\"My age is: {age}\")"
   ]
  },
  {
   "cell_type": "code",
   "execution_count": 19,
   "id": "f935c97e-0e93-4bf9-ba70-223e6b8ee685",
   "metadata": {},
   "outputs": [
    {
     "name": "stdout",
     "output_type": "stream",
     "text": [
      "My name is Swati and age is 30\n"
     ]
    }
   ],
   "source": [
    "## format()\n",
    "name=\"Swati\"\n",
    "age=30\n",
    "print(\"My name is {} and age is {}\".format(name,age))"
   ]
  },
  {
   "cell_type": "code",
   "execution_count": 20,
   "id": "077a3c45-8c32-4ac5-9d43-c80bc4bdf554",
   "metadata": {},
   "outputs": [
    {
     "name": "stdout",
     "output_type": "stream",
     "text": [
      "My name is 30 and age is Swati\n"
     ]
    }
   ],
   "source": [
    "print(\"My name is {} and age is {}\".format(age,name))"
   ]
  },
  {
   "cell_type": "code",
   "execution_count": 21,
   "id": "71ff9591-9870-436f-a0b7-d7be356a4cb3",
   "metadata": {},
   "outputs": [
    {
     "name": "stdout",
     "output_type": "stream",
     "text": [
      "My name is Swati and age is 30\n"
     ]
    }
   ],
   "source": [
    "##placeholder--- variable\n",
    "print(\"My name is {firstname} and age is {firstage}\".format(firstname=name,firstage=age))"
   ]
  },
  {
   "cell_type": "code",
   "execution_count": 23,
   "id": "49da780e-237c-4f46-82bc-54271aec8320",
   "metadata": {},
   "outputs": [
    {
     "name": "stdout",
     "output_type": "stream",
     "text": [
      "My name is Swati and age is 30\n"
     ]
    }
   ],
   "source": [
    "print(\"My name is {firstname} and age is {firstage}\".format(firstage=age,firstname=name))"
   ]
  },
  {
   "cell_type": "code",
   "execution_count": null,
   "id": "7b47f0ea-b0f2-484c-8872-4daf852f6fd9",
   "metadata": {},
   "outputs": [],
   "source": [
    "name=\"Swati\"\n",
    "age=30\n",
    "degree=\"BE\"\n",
    "\n",
    "\"My age is 30 and i have completed: my degree of BE with the name of Swati\""
   ]
  },
  {
   "cell_type": "code",
   "execution_count": 27,
   "id": "954cc639-e818-45a7-ba20-6380b40617fe",
   "metadata": {},
   "outputs": [
    {
     "name": "stdout",
     "output_type": "stream",
     "text": [
      "My age is 30 and i have completed: my degree of BE with name Swati\n"
     ]
    }
   ],
   "source": [
    "name=\"Swati\"\n",
    "age=30\n",
    "degree=\"BE\"\n",
    "print(\"My age is {} and i have completed: my degree of {} with name {}\".format(age,degree,name))"
   ]
  },
  {
   "cell_type": "code",
   "execution_count": 28,
   "id": "42116e5b-906d-4a95-89ca-1212cf047578",
   "metadata": {},
   "outputs": [
    {
     "name": "stdout",
     "output_type": "stream",
     "text": [
      "My age is 30 and i have completed : my degree of BE with name Swati\n"
     ]
    }
   ],
   "source": [
    "name=\"Swati\"\n",
    "age=30\n",
    "degree=\"BE\"\n",
    "print(f\"My age is {age} and i have completed : my degree of {degree} with name {name}\")"
   ]
  },
  {
   "cell_type": "markdown",
   "id": "91552d42-7f3b-459b-aec2-6124459cb80f",
   "metadata": {},
   "source": [
    "### Control Flow "
   ]
  },
  {
   "cell_type": "markdown",
   "id": "d798a82d-07e4-4b04-beb5-fd1199f26be5",
   "metadata": {},
   "source": [
    "##### Decision Making Statements"
   ]
  },
  {
   "cell_type": "code",
   "execution_count": 29,
   "id": "53eb8b9e-003a-4177-900b-85ce10dac72e",
   "metadata": {},
   "outputs": [
    {
     "name": "stdout",
     "output_type": "stream",
     "text": [
      "You are eligible to vote\n"
     ]
    }
   ],
   "source": [
    "##if statements\n",
    "age=18\n",
    "if age>=18:\n",
    "    print(\"You are eligible to vote\")"
   ]
  },
  {
   "cell_type": "code",
   "execution_count": null,
   "id": "a7fd1a3a-2f1d-4c4c-9660-bf950faa6cb0",
   "metadata": {},
   "outputs": [],
   "source": [
    "## new lecture"
   ]
  },
  {
   "cell_type": "code",
   "execution_count": 2,
   "id": "517e0c93-9247-4385-acb5-5faed502e177",
   "metadata": {},
   "outputs": [
    {
     "name": "stdin",
     "output_type": "stream",
     "text": [
      "Enter the age 17\n"
     ]
    }
   ],
   "source": [
    "age=int(input('Enter the age'))\n",
    "if   age>=18 and age<=45:\n",
    "    print('You are young blood')"
   ]
  },
  {
   "cell_type": "code",
   "execution_count": 3,
   "id": "1d96d16e-4365-4bac-93a5-db8325d35ee7",
   "metadata": {},
   "outputs": [
    {
     "name": "stdin",
     "output_type": "stream",
     "text": [
      "Enter the age 30\n"
     ]
    },
    {
     "name": "stdout",
     "output_type": "stream",
     "text": [
      "You are young blood\n"
     ]
    }
   ],
   "source": [
    "age=int(input('Enter the age'))\n",
    "if   age>=18 and age<=45:\n",
    "    print('You are young blood')"
   ]
  },
  {
   "cell_type": "code",
   "execution_count": 5,
   "id": "98ebc241-134a-4572-8040-b22ebcc519d1",
   "metadata": {},
   "outputs": [
    {
     "name": "stdin",
     "output_type": "stream",
     "text": [
      "Enter the age 50\n"
     ]
    },
    {
     "name": "stdout",
     "output_type": "stream",
     "text": [
      "Your application is rejected\n"
     ]
    }
   ],
   "source": [
    "## if ekse statements\n",
    "age=int(input('Enter the age'))\n",
    "if   age>=18 and age<=45:\n",
    "    print('You are young blood')\n",
    "else:\n",
    "    print('Your application is rejected')"
   ]
  },
  {
   "cell_type": "code",
   "execution_count": 13,
   "id": "a765d923-17f8-469b-9605-b4b61d3c1a14",
   "metadata": {},
   "outputs": [
    {
     "name": "stdin",
     "output_type": "stream",
     "text": [
      "Print the product price 1500\n"
     ]
    },
    {
     "name": "stdout",
     "output_type": "stream",
     "text": [
      "The price of the product is 1200.0\n"
     ]
    }
   ],
   "source": [
    "## task\n",
    "product_price=int(input('Print the product price'))\n",
    "if  product_price>1000:\n",
    "    print('The price of the product is {}'.format(product_price*0.8))\n",
    "else:\n",
    "    print('The price of the product is {}'.format(product_price*0.7))"
   ]
  },
  {
   "cell_type": "code",
   "execution_count": 15,
   "id": "b54850e5-4d67-45e3-8529-f2e6e2debd80",
   "metadata": {},
   "outputs": [
    {
     "name": "stdin",
     "output_type": "stream",
     "text": [
      "Print the product price 300\n"
     ]
    },
    {
     "name": "stdout",
     "output_type": "stream",
     "text": [
      "The price of the product is 210.0\n"
     ]
    }
   ],
   "source": [
    "product_price=int(input('Print the product price'))\n",
    "if  product_price>1000:\n",
    "    print('The price of the product is {}'.format(product_price*0.8))\n",
    "else:\n",
    "    print('The price of the product is {}'.format(product_price*0.7))"
   ]
  },
  {
   "cell_type": "code",
   "execution_count": 18,
   "id": "d08753c0-7093-4334-a785-146f2d60f8c7",
   "metadata": {},
   "outputs": [
    {
     "name": "stdin",
     "output_type": "stream",
     "text": [
      "Print the product price 4000\n"
     ]
    },
    {
     "name": "stdout",
     "output_type": "stream",
     "text": [
      "The price of the product is 3200.0\n"
     ]
    }
   ],
   "source": [
    "product_price=int(input('Print the product price'))\n",
    "if  product_price>3000:\n",
    "    print('The price of the product is {}'.format(product_price*0.8))\n",
    "elif product_price>=2000 and product_price<=3000:\n",
    "    print('The price of the product is {}'.format(product_price*0.7))\n",
    "else: \n",
    "    print('The price of the product is {}'.format(product_price*0.6))"
   ]
  },
  {
   "cell_type": "code",
   "execution_count": 19,
   "id": "c99d8d10-0bda-4d1e-a4b7-d2e0c6490754",
   "metadata": {},
   "outputs": [
    {
     "name": "stdin",
     "output_type": "stream",
     "text": [
      "Print the product price 1800\n"
     ]
    },
    {
     "name": "stdout",
     "output_type": "stream",
     "text": [
      "The price of the product is 1080.0\n"
     ]
    }
   ],
   "source": [
    "product_price=int(input('Print the product price'))\n",
    "if  product_price>3000:\n",
    "    print('The price of the product is {}'.format(product_price*0.8))\n",
    "elif product_price>=2000 and product_price<=3000:\n",
    "    print('The price of the product is {}'.format(product_price*0.7))\n",
    "else: \n",
    "    print('The price of the product is {}'.format(product_price*0.6))"
   ]
  },
  {
   "cell_type": "code",
   "execution_count": 21,
   "id": "a38153bd-439e-4175-8dfd-c86907303929",
   "metadata": {},
   "outputs": [
    {
     "name": "stdin",
     "output_type": "stream",
     "text": [
      "Print the product price 1000\n"
     ]
    },
    {
     "name": "stdout",
     "output_type": "stream",
     "text": [
      "The price of the product is 600.0\n"
     ]
    }
   ],
   "source": [
    "product_price=int(input('Print the product price'))\n",
    "if  product_price>3000:\n",
    "    print('The price of the product is {}'.format(product_price*0.8))\n",
    "elif product_price>=2000 and product_price<=3000:\n",
    "    print(f'The price of the product is {product_price*0.7}')\n",
    "else: \n",
    "    print('The price of the product is {}'.format(product_price*0.6))"
   ]
  },
  {
   "cell_type": "code",
   "execution_count": 22,
   "id": "b2ac71ec-c123-4a7f-a8e9-5304d7d1ee6c",
   "metadata": {},
   "outputs": [
    {
     "name": "stdin",
     "output_type": "stream",
     "text": [
      "Print the product price 300\n"
     ]
    },
    {
     "name": "stdout",
     "output_type": "stream",
     "text": [
      "lets drink tea\n"
     ]
    }
   ],
   "source": [
    "product_price=int(input('Print the product price'))\n",
    "if  product_price>3000:\n",
    "    print('The price of the product is {}'.format(product_price*0.8))\n",
    "elif product_price>=2000 and product_price<=3000:\n",
    "    print(f'The price of the product is {product_price*0.7}')\n",
    "elif product_price>100 and product_price<=2000:\n",
    "    print(f'The price of the product is {product_price*0.6}')\n",
    "else: \n",
    "    print('lets drink tea')"
   ]
  },
  {
   "cell_type": "code",
   "execution_count": 29,
   "id": "2f9c9918-1a67-4485-ad73-8a0224758065",
   "metadata": {},
   "outputs": [
    {
     "name": "stdin",
     "output_type": "stream",
     "text": [
      "Print the product price 2999\n"
     ]
    },
    {
     "name": "stdout",
     "output_type": "stream",
     "text": [
      "Eligible for additional gift\n",
      "The price of the product is 2099.2999999999997\n"
     ]
    }
   ],
   "source": [
    "product_price=int(input('Print the product price'))\n",
    "if  product_price>3000:\n",
    "    print('The price of the product is {}'.format(product_price*0.8))\n",
    "elif product_price>=2000 and product_price<=3000:\n",
    "    if  product_price==2999:\n",
    "        print('Eligible for additional gift')\n",
    "    print(f'The price of the product is {product_price*0.7}')\n",
    "elif product_price>100 and product_price<=2000:\n",
    "    print(f'The price of the product is {product_price*0.6}')\n",
    "elif product_price==2999:\n",
    "    print('Eligible for additional gift')\n",
    "else: \n",
    "    print('lets drink tea')"
   ]
  },
  {
   "cell_type": "code",
   "execution_count": 30,
   "id": "11866aca-2dc3-4df0-a736-07280cdf4e71",
   "metadata": {},
   "outputs": [
    {
     "name": "stdin",
     "output_type": "stream",
     "text": [
      "Print the product price 4000\n"
     ]
    },
    {
     "name": "stdout",
     "output_type": "stream",
     "text": [
      "Congratulations you are eligible for a Goa Trip\n",
      "The price of the product is 3200.0\n"
     ]
    }
   ],
   "source": [
    "product_price=int(input('Print the product price'))\n",
    "if  product_price>3000:\n",
    "    if product_price==4000:\n",
    "        print('Congratulations you are eligible for a Goa Trip')\n",
    "    print('The price of the product is {}'.format(product_price*0.8))\n",
    "elif product_price>=2000 and product_price<=3000:\n",
    "    if  product_price==2999:\n",
    "        print('Eligible for additional gift')\n",
    "    print(f'The price of the product is {product_price*0.7}')\n",
    "elif product_price>100 and product_price<=2000:\n",
    "    print(f'The price of the product is {product_price*0.6}')\n",
    "elif product_price==2999:\n",
    "    print('Eligible for additional gift')\n",
    "else: \n",
    "    print('lets drink tea')"
   ]
  },
  {
   "cell_type": "code",
   "execution_count": 33,
   "id": "aa37a004-5289-4e34-8a5f-95039cc1c381",
   "metadata": {},
   "outputs": [
    {
     "name": "stdout",
     "output_type": "stream",
     "text": [
      "True\n"
     ]
    }
   ],
   "source": [
    "## Comparison operstor\n",
    "print(True==True)"
   ]
  },
  {
   "cell_type": "code",
   "execution_count": 35,
   "id": "9449a9e9-4b00-49cf-ac5d-3f762e0dfaf0",
   "metadata": {},
   "outputs": [
    {
     "name": "stdin",
     "output_type": "stream",
     "text": [
      "Enter the number 400\n"
     ]
    },
    {
     "name": "stdout",
     "output_type": "stream",
     "text": [
      "Value is ess than equal to 999\n"
     ]
    }
   ],
   "source": [
    "## Single statement suites\n",
    "val=int(input('Enter the number'))\n",
    "if val<=999:print('Value is ess than equal to 999')  "
   ]
  },
  {
   "cell_type": "code",
   "execution_count": 36,
   "id": "6a793e1c-46a3-4ec1-991c-2abf0998a08a",
   "metadata": {},
   "outputs": [
    {
     "name": "stdin",
     "output_type": "stream",
     "text": [
      "Enter the number 1091\n"
     ]
    },
    {
     "name": "stdout",
     "output_type": "stream",
     "text": [
      "Go home\n"
     ]
    }
   ],
   "source": [
    "val=int(input('Enter the number'))\n",
    "if val<=999:print('Value is ess than equal to 999')  \n",
    "else:\n",
    "    print('Go home')"
   ]
  },
  {
   "cell_type": "markdown",
   "id": "3e8c1258-7a7b-44eb-a1e2-d2f2f6ddaa68",
   "metadata": {},
   "source": [
    "## Loop Statements\n",
    "1. while loop\n",
    "2. for loop\n",
    "3. nested loop\n",
    "4. loop control(break,continue,pass)"
   ]
  },
  {
   "cell_type": "code",
   "execution_count": 11,
   "id": "f83750ca-c905-4f2f-a421-8350668b1b43",
   "metadata": {},
   "outputs": [
    {
     "name": "stdout",
     "output_type": "stream",
     "text": [
      "26\n",
      "27\n",
      "28\n",
      "29\n",
      "30\n",
      "31\n",
      "32\n",
      "33\n",
      "34\n",
      "35\n",
      "36\n",
      "37\n",
      "38\n",
      "39\n",
      "40\n",
      "41\n",
      "42\n",
      "43\n",
      "44\n",
      "45\n",
      "46\n",
      "47\n",
      "48\n",
      "49\n",
      "50\n",
      "51\n",
      "52\n",
      "53\n",
      "54\n",
      "55\n",
      "56\n",
      "57\n",
      "58\n",
      "59\n",
      "60\n",
      "61\n"
     ]
    }
   ],
   "source": [
    "# while loop\n",
    "joining_age=25\n",
    "while joining_age<=60:\n",
    "    joining_age=joining_age+1\n",
    "    print(joining_age)"
   ]
  },
  {
   "cell_type": "code",
   "execution_count": 13,
   "id": "f49e797d-6153-48f6-9e75-2d0760f86aeb",
   "metadata": {},
   "outputs": [
    {
     "name": "stdout",
     "output_type": "stream",
     "text": [
      "26\n",
      "27\n",
      "28\n",
      "29\n",
      "30\n",
      "31\n",
      "32\n",
      "33\n",
      "34\n",
      "35\n",
      "36\n",
      "37\n",
      "38\n",
      "39\n",
      "40\n",
      "41\n",
      "42\n",
      "43\n",
      "44\n",
      "45\n",
      "46\n",
      "47\n",
      "48\n",
      "49\n",
      "50\n",
      "51\n",
      "52\n",
      "53\n",
      "54\n",
      "55\n",
      "56\n",
      "57\n",
      "58\n",
      "59\n",
      "60\n",
      "61\n",
      "Its time for retirement\n"
     ]
    }
   ],
   "source": [
    "## while loop --while else\n",
    "joining_age=25\n",
    "while joining_age<=60:\n",
    "    joining_age=joining_age+1\n",
    "    print(joining_age)\n",
    "else:\n",
    "    print('Its time for retirement')"
   ]
  },
  {
   "cell_type": "code",
   "execution_count": 14,
   "id": "d619f5cd-ab87-4eea-a958-5703fc52e3de",
   "metadata": {},
   "outputs": [
    {
     "name": "stdout",
     "output_type": "stream",
     "text": [
      "25\n",
      "26\n",
      "27\n",
      "28\n",
      "29\n",
      "30\n",
      "31\n",
      "32\n",
      "33\n",
      "34\n",
      "35\n",
      "36\n",
      "37\n",
      "38\n",
      "39\n",
      "40\n",
      "41\n",
      "42\n",
      "43\n",
      "44\n",
      "45\n",
      "46\n",
      "47\n",
      "48\n",
      "49\n",
      "50\n",
      "51\n",
      "52\n",
      "53\n",
      "54\n",
      "55\n",
      "56\n",
      "57\n",
      "58\n",
      "59\n",
      "60\n",
      "Its time for retirement\n"
     ]
    }
   ],
   "source": [
    "joining_age=25\n",
    "while joining_age<=60:\n",
    "    print(joining_age)\n",
    "    joining_age=joining_age+1\n",
    "else:\n",
    "    print('Its time for retirement')"
   ]
  },
  {
   "cell_type": "code",
   "execution_count": 22,
   "id": "68c62b19-819c-4e00-9cec-e85580502597",
   "metadata": {},
   "outputs": [
    {
     "name": "stdout",
     "output_type": "stream",
     "text": [
      "900\n",
      "800\n",
      "700\n",
      "600\n",
      "500\n",
      "400\n",
      "300\n",
      "200\n",
      "100\n",
      "0\n"
     ]
    }
   ],
   "source": [
    "## atm machine has 1000rs\n",
    "## everytime transaction is done 100rs comes out\n",
    "##if money is exhausted put condition\n",
    "# !=   not equal to\n",
    "\n",
    "total_amount=1000\n",
    "while total_amount!=0:\n",
    "    total_amount=total_amount-100\n",
    "    print(total_amount)\n"
   ]
  },
  {
   "cell_type": "code",
   "execution_count": 31,
   "id": "0e43801c-6e02-4db3-bed3-5f8796e52ba7",
   "metadata": {},
   "outputs": [
    {
     "name": "stdout",
     "output_type": "stream",
     "text": [
      "1000\n",
      "900\n",
      "800\n",
      "700\n",
      "600\n",
      "500\n",
      "400\n",
      "300\n",
      "200\n",
      "100\n"
     ]
    }
   ],
   "source": [
    "total_amount=1000\n",
    "while total_amount!=0:\n",
    "        print(total_amount)\n",
    "        total_amount=total_amount-100\n",
    "   "
   ]
  },
  {
   "cell_type": "code",
   "execution_count": 32,
   "id": "b195d7a5-707e-4d9e-baf5-e7a40d635ec0",
   "metadata": {},
   "outputs": [
    {
     "name": "stdout",
     "output_type": "stream",
     "text": [
      "1000\n",
      "900\n",
      "800\n",
      "700\n",
      "600\n",
      "500\n",
      "400\n",
      "300\n",
      "200\n",
      "100\n",
      "Paisa bharo bank walo\n"
     ]
    }
   ],
   "source": [
    "total_amount=1000\n",
    "while total_amount!=0:\n",
    "        print(total_amount)\n",
    "        total_amount=total_amount-100\n",
    "else:\n",
    "    print('Paisa bharo bank walo')"
   ]
  },
  {
   "cell_type": "markdown",
   "id": "f686c9bc-eb71-4a9b-b1a6-0d6c22ef61b3",
   "metadata": {},
   "source": [
    "## For loop"
   ]
  },
  {
   "cell_type": "code",
   "execution_count": 25,
   "id": "0feefbe0-b3db-403b-980a-349fc7d61b76",
   "metadata": {},
   "outputs": [],
   "source": [
    "lst=[\"swati\",1,2,3,4,\"apple\",\"banana\",0]"
   ]
  },
  {
   "cell_type": "code",
   "execution_count": 26,
   "id": "4fcc153b-9349-4bc5-917d-92ed6332bcea",
   "metadata": {},
   "outputs": [
    {
     "data": {
      "text/plain": [
       "list"
      ]
     },
     "execution_count": 26,
     "metadata": {},
     "output_type": "execute_result"
    }
   ],
   "source": [
    "type(lst)"
   ]
  },
  {
   "cell_type": "code",
   "execution_count": 27,
   "id": "f820fe88-07be-4f48-9856-6fbcb9ab5620",
   "metadata": {},
   "outputs": [
    {
     "data": {
      "text/plain": [
       "'swati'"
      ]
     },
     "execution_count": 27,
     "metadata": {},
     "output_type": "execute_result"
    }
   ],
   "source": [
    "lst[0]"
   ]
  },
  {
   "cell_type": "code",
   "execution_count": 30,
   "id": "94d0948e-549e-4655-a464-330b95e8a318",
   "metadata": {},
   "outputs": [
    {
     "data": {
      "text/plain": [
       "'apple'"
      ]
     },
     "execution_count": 30,
     "metadata": {},
     "output_type": "execute_result"
    }
   ],
   "source": [
    "lst[5]"
   ]
  },
  {
   "cell_type": "code",
   "execution_count": 31,
   "id": "ed1d2927-9574-41c5-88b3-7ec130f3781f",
   "metadata": {},
   "outputs": [
    {
     "data": {
      "text/plain": [
       "['swati', 1, 2, 3, 4, 'apple', 'banana', 0]"
      ]
     },
     "execution_count": 31,
     "metadata": {},
     "output_type": "execute_result"
    }
   ],
   "source": [
    "lst"
   ]
  },
  {
   "cell_type": "code",
   "execution_count": 32,
   "id": "d7c1a83a-20e5-4412-8308-cc9946ac678a",
   "metadata": {},
   "outputs": [
    {
     "name": "stdout",
     "output_type": "stream",
     "text": [
      "swati\n",
      "1\n",
      "2\n",
      "3\n",
      "4\n",
      "apple\n",
      "banana\n",
      "0\n"
     ]
    }
   ],
   "source": [
    "for x in lst:\n",
    "    print(x)"
   ]
  },
  {
   "cell_type": "code",
   "execution_count": 6,
   "id": "1b34be56-99da-420c-b64b-78ff793001d7",
   "metadata": {},
   "outputs": [],
   "source": [
    "fruits_list=[\"Mango\",\"Cherry\",\"Grapes\",\"Banana\",\"Pears\"]"
   ]
  },
  {
   "cell_type": "code",
   "execution_count": 7,
   "id": "f55be8cf-b6e0-48c3-9b70-9ab713509bdd",
   "metadata": {},
   "outputs": [
    {
     "name": "stdout",
     "output_type": "stream",
     "text": [
      "Mango\n",
      "Cherry\n",
      "Grapes\n",
      "Banana\n",
      "Pears\n"
     ]
    }
   ],
   "source": [
    "for i in fruits_list:\n",
    "      print(i)\n"
   ]
  },
  {
   "cell_type": "code",
   "execution_count": 31,
   "id": "6834ad24-5c0c-4e7c-b1ed-ed342bddaebb",
   "metadata": {},
   "outputs": [
    {
     "name": "stdout",
     "output_type": "stream",
     "text": [
      "Mango\n",
      "Cherry\n",
      "The fruit is Cherry\n",
      "Grapes\n",
      "Banana\n",
      "Pears\n"
     ]
    }
   ],
   "source": [
    "for i in fruits_list:\n",
    "      print(i)\n",
    "      if i==\"Cherry\":\n",
    "        print(\"The fruit is Cherry\")"
   ]
  },
  {
   "cell_type": "code",
   "execution_count": 34,
   "id": "9c0593e1-eae5-42b3-8d08-80a3118947c9",
   "metadata": {},
   "outputs": [
    {
     "name": "stdout",
     "output_type": "stream",
     "text": [
      "MangoCherryThe fruit is Cherry\n",
      "GrapesBananaPears"
     ]
    }
   ],
   "source": [
    "for i in fruits_list:\n",
    "      print(i,end='')\n",
    "      if i==\"Cherry\":\n",
    "        print(\"The fruit is Cherry\")"
   ]
  },
  {
   "cell_type": "code",
   "execution_count": 35,
   "id": "57c5f0d3-5c97-4572-ad21-304ebdd662fc",
   "metadata": {},
   "outputs": [
    {
     "name": "stdout",
     "output_type": "stream",
     "text": [
      "m\n",
      "a\n",
      "n\n",
      "g\n",
      "o\n"
     ]
    }
   ],
   "source": [
    "## string is a collection of elements\n",
    "\n",
    "fruit=\"mango\"\n",
    "for x in fruit:\n",
    "    print(x)"
   ]
  },
  {
   "cell_type": "code",
   "execution_count": 37,
   "id": "7d9eb541-3826-4dc6-b305-96eae3f51fa0",
   "metadata": {},
   "outputs": [
    {
     "data": {
      "text/plain": [
       "'m'"
      ]
     },
     "execution_count": 37,
     "metadata": {},
     "output_type": "execute_result"
    }
   ],
   "source": [
    "fruit[0]"
   ]
  },
  {
   "cell_type": "code",
   "execution_count": 39,
   "id": "717e6507-6722-44c9-8a60-0d17a0aeb6a1",
   "metadata": {},
   "outputs": [
    {
     "data": {
      "text/plain": [
       "'o'"
      ]
     },
     "execution_count": 39,
     "metadata": {},
     "output_type": "execute_result"
    }
   ],
   "source": [
    "fruit[4]"
   ]
  },
  {
   "cell_type": "code",
   "execution_count": 40,
   "id": "6ab522a1-daa1-40f9-915a-63229ee82295",
   "metadata": {},
   "outputs": [
    {
     "name": "stdout",
     "output_type": "stream",
     "text": [
      "mango"
     ]
    }
   ],
   "source": [
    "fruit=\"mango\"\n",
    "for x in fruit:\n",
    "    print(x, end=\"\")"
   ]
  },
  {
   "cell_type": "code",
   "execution_count": 44,
   "id": "15671bab-3d82-428e-9233-b88df50b8d1a",
   "metadata": {},
   "outputs": [
    {
     "name": "stdout",
     "output_type": "stream",
     "text": [
      "1\n",
      "2\n",
      "3\n",
      "4\n",
      "5\n"
     ]
    }
   ],
   "source": [
    "### Nested loops\n",
    "\n",
    "for i in range(1,6):\n",
    "    print(i)"
   ]
  },
  {
   "cell_type": "code",
   "execution_count": 46,
   "id": "ec7e49d1-c9c1-41ad-bb9a-4d96e6f66a78",
   "metadata": {},
   "outputs": [
    {
     "name": "stdout",
     "output_type": "stream",
     "text": [
      "1\n",
      "3\n",
      "5\n"
     ]
    }
   ],
   "source": [
    "# range and step\n",
    "\n",
    "for i in range(1,6,2):\n",
    "    print(i)"
   ]
  },
  {
   "cell_type": "code",
   "execution_count": 47,
   "id": "821b2fd2-daa8-45eb-8e57-5174fb2394bf",
   "metadata": {},
   "outputs": [
    {
     "name": "stdout",
     "output_type": "stream",
     "text": [
      "1\n",
      "2\n",
      "3\n",
      "4\n",
      "5\n",
      "6\n",
      "7\n",
      "8\n",
      "9\n"
     ]
    }
   ],
   "source": [
    "for i in range(1,10):\n",
    "    print(i)"
   ]
  },
  {
   "cell_type": "code",
   "execution_count": 49,
   "id": "c74cc460-d5ec-4c9a-8a89-c68a736ed685",
   "metadata": {},
   "outputs": [
    {
     "name": "stdout",
     "output_type": "stream",
     "text": [
      "1\n",
      "3\n",
      "5\n",
      "7\n",
      "9\n"
     ]
    }
   ],
   "source": [
    "for i in range(1,10,2):\n",
    "    print(i)"
   ]
  },
  {
   "cell_type": "code",
   "execution_count": 2,
   "id": "5cadc12b-b316-4ede-833a-eaa1a5ae078f",
   "metadata": {},
   "outputs": [
    {
     "name": "stdout",
     "output_type": "stream",
     "text": [
      "aaaaaaaaaaaaaaaaaaaaaaaaaaaa"
     ]
    }
   ],
   "source": [
    "# for nested loop\n",
    "\n",
    "n=7\n",
    "\n",
    "for i in range(0,n):\n",
    "    for j in range(0,i+1):\n",
    "        print(\"a\",end=\"\")\n"
   ]
  },
  {
   "cell_type": "code",
   "execution_count": 14,
   "id": "e95ded04-916b-4d76-9c06-6ec72ce8e523",
   "metadata": {},
   "outputs": [
    {
     "name": "stdout",
     "output_type": "stream",
     "text": [
      "a\n",
      "aa\n",
      "aaa\n",
      "aaaa\n",
      "aaaaa\n",
      "aaaaaa\n",
      "aaaaaaa\n"
     ]
    }
   ],
   "source": [
    "## \\r  is moving from left\n",
    "\n",
    "n=7\n",
    "\n",
    "for i in range(0,n):\n",
    "    for j in range(0,i+1):\n",
    "        print(\"a\",end=\"\")\n",
    "    print(\"\\r\")\n",
    "        "
   ]
  },
  {
   "cell_type": "code",
   "execution_count": 15,
   "id": "714bd9d0-6933-4eaf-9524-cc0143a25099",
   "metadata": {},
   "outputs": [
    {
     "name": "stdout",
     "output_type": "stream",
     "text": [
      "a\n",
      "\n",
      "aa\n",
      "\n",
      "aaa\n",
      "\n",
      "aaaa\n",
      "\n",
      "aaaaa\n",
      "\n",
      "aaaaaa\n",
      "\n",
      "aaaaaaa\n",
      "\n"
     ]
    }
   ],
   "source": [
    "# \\n is giving a line in between\n",
    "\n",
    "n=7\n",
    "\n",
    "for i in range(0,n):\n",
    "    for j in range(0,i+1):\n",
    "        print(\"a\",end=\"\")\n",
    "    print(\"\\n\")\n",
    "        "
   ]
  },
  {
   "cell_type": "code",
   "execution_count": 16,
   "id": "dbffa4fb-240c-4209-a83d-88ae5fea180a",
   "metadata": {},
   "outputs": [
    {
     "name": "stdout",
     "output_type": "stream",
     "text": [
      "Mango\n",
      "Cherry\n",
      "Guava\n",
      "Apple\n",
      "Banana\n"
     ]
    }
   ],
   "source": [
    "## Loop Controls\n",
    "## Break and continue\n",
    "\n",
    "\n",
    "fruit_list = [\"Mango\",\"Cherry\",\"Guava\",\"Apple\",\"Banana\"]\n",
    "\n",
    "for i in fruit_list:\n",
    "    print(i)"
   ]
  },
  {
   "cell_type": "code",
   "execution_count": 21,
   "id": "00292274-59c3-4395-9cc3-bc8acc164985",
   "metadata": {},
   "outputs": [
    {
     "name": "stdout",
     "output_type": "stream",
     "text": [
      "Mango\n",
      "Cherry\n",
      "Guava\n",
      "The fruit is apple\n",
      "Apple\n",
      "Banana\n"
     ]
    }
   ],
   "source": [
    "for i in fruit_list:\n",
    "    if i==\"Apple\":\n",
    "        print(\"The fruit is apple\")\n",
    "    print(i)"
   ]
  },
  {
   "cell_type": "code",
   "execution_count": 22,
   "id": "62e949dc-840a-498d-9a07-f92674a9f778",
   "metadata": {},
   "outputs": [
    {
     "name": "stdout",
     "output_type": "stream",
     "text": [
      "Mango\n",
      "Cherry\n",
      "Guava\n",
      "The fruit is apple\n"
     ]
    }
   ],
   "source": [
    "for i in fruit_list:\n",
    "    if i==\"Apple\":\n",
    "        print(\"The fruit is apple\")\n",
    "        break\n",
    "    print(i)"
   ]
  },
  {
   "cell_type": "code",
   "execution_count": 23,
   "id": "2f1325cf-c43f-44fc-bbc4-b49373503160",
   "metadata": {},
   "outputs": [
    {
     "name": "stdout",
     "output_type": "stream",
     "text": [
      "Mango\n",
      "Cherry\n",
      "Guava\n",
      "The fruit is apple\n",
      "Apple\n",
      "Banana\n"
     ]
    }
   ],
   "source": [
    "for i in fruit_list:\n",
    "    if i==\"Apple\":\n",
    "        print(\"The fruit is apple\")\n",
    "        pass\n",
    "    print(i)"
   ]
  },
  {
   "cell_type": "code",
   "execution_count": 26,
   "id": "af05c144-48e3-4f04-a9c0-25c7c1bf3d17",
   "metadata": {},
   "outputs": [
    {
     "name": "stdout",
     "output_type": "stream",
     "text": [
      "Mango\n",
      "Cherry\n",
      "Guava\n",
      "The fruit is apple\n",
      "Banana\n"
     ]
    }
   ],
   "source": [
    "for i in fruit_list:\n",
    "    if i==\"Apple\":\n",
    "        print(\"The fruit is apple\")\n",
    "        continue\n",
    "    print(i)"
   ]
  },
  {
   "cell_type": "code",
   "execution_count": null,
   "id": "2aeb76cf-8dcb-418b-a9b3-42d80c3e8ce6",
   "metadata": {},
   "outputs": [],
   "source": []
  }
 ],
 "metadata": {
  "kernelspec": {
   "display_name": "Python 3 (ipykernel)",
   "language": "python",
   "name": "python3"
  },
  "language_info": {
   "codemirror_mode": {
    "name": "ipython",
    "version": 3
   },
   "file_extension": ".py",
   "mimetype": "text/x-python",
   "name": "python",
   "nbconvert_exporter": "python",
   "pygments_lexer": "ipython3",
   "version": "3.10.8"
  }
 },
 "nbformat": 4,
 "nbformat_minor": 5
}
