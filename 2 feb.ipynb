{
 "cells": [
  {
   "cell_type": "markdown",
   "id": "9b8dd551-c035-4e0d-8bbe-97f4b9f895a0",
   "metadata": {},
   "source": [
    "Q1. What are the characteristics of the tuples? Is tuple immutable?\n",
    "#### Charachteristics of tuples"
   ]
  },
  {
   "cell_type": "markdown",
   "id": "3a237c37-2d44-4f26-8f7d-897f30d8b8e6",
   "metadata": {},
   "source": [
    "\n",
    "1. Tuples are immutable\n",
    "2. Tuples are indexed\n",
    "3. Tuples are ordered\n",
    "4. Tuples can contain duplicate elements\n",
    "5. Items cannot be added to tuples once created\n"
   ]
  },
  {
   "cell_type": "markdown",
   "id": "4fd4a6c0-72f6-441a-916a-a49de3c578e1",
   "metadata": {},
   "source": [
    "yes tuples are immutable"
   ]
  },
  {
   "cell_type": "markdown",
   "id": "f1ad68b9-b9f0-4e36-b847-cd3d16ff539a",
   "metadata": {},
   "source": [
    "Q2. What are the two tuple methods in python? Give an example of each method. Give a reason why\n",
    "tuples have only two in-built methods as compared to Lists."
   ]
  },
  {
   "cell_type": "markdown",
   "id": "23726df8-5fce-494d-a43a-42e2280ebb71",
   "metadata": {},
   "source": [
    "Python has two built-in method on tuples.\n",
    "1. count() : returns the no. of times the specified value occurs\n",
    "2. index() : searches the tuple for a specified value and returns the positon of where it was found."
   ]
  },
  {
   "cell_type": "code",
   "execution_count": 16,
   "id": "39a1507a-4721-4448-9386-c4b52adaa5c9",
   "metadata": {},
   "outputs": [
    {
     "name": "stdout",
     "output_type": "stream",
     "text": [
      "3\n"
     ]
    }
   ],
   "source": [
    "tuple1 = (2,6,8,5,5,71,45,5,1,2)\n",
    "count = tuple1.count(5)                #counting the occurances of 5\n",
    "print(count)"
   ]
  },
  {
   "cell_type": "code",
   "execution_count": 15,
   "id": "98e15503-ff4c-4a41-8b0a-eefc13875586",
   "metadata": {},
   "outputs": [
    {
     "name": "stdout",
     "output_type": "stream",
     "text": [
      "5\n"
     ]
    }
   ],
   "source": [
    "index = tuple1.index(71)\n",
    "print(index)"
   ]
  },
  {
   "cell_type": "markdown",
   "id": "f4766c65-0ff2-460f-8189-882a71ec96bd",
   "metadata": {},
   "source": [
    " A tuple does not have many built-in methods because of immutability where as lists are mutable."
   ]
  },
  {
   "cell_type": "markdown",
   "id": "d6fdff58-b561-403d-a076-66649206ec06",
   "metadata": {},
   "source": [
    "Q3. Which collection datatypes in python do not allow duplicate items? Write a code using a set to remove\n",
    "duplicates from the given list."
   ]
  },
  {
   "cell_type": "markdown",
   "id": "fa4db323-c4c8-4c3b-9e74-d057a4b71482",
   "metadata": {},
   "source": [
    "set data structure."
   ]
  },
  {
   "cell_type": "code",
   "execution_count": 19,
   "id": "efb81baa-c1c6-48c4-bf20-aabf5161ac29",
   "metadata": {},
   "outputs": [
    {
     "name": "stdout",
     "output_type": "stream",
     "text": [
      "The original list is : [5, 7, 8, 4, 7, 7, 9, 34, 6, 7, 3, 2]\n",
      "The list after removing duplicates : [34, 3, 4, 5, 6, 7, 8, 9, 2]\n"
     ]
    }
   ],
   "source": [
    "test_list = [5,7,8,4,7,7,9,34,6,7,3,2]\n",
    "print(\"The original list is : \" + str(test_list))\n",
    "\n",
    "test_list = list(set(test_list))\n",
    "print(\"The list after removing duplicates : \" + str(test_list))\n"
   ]
  },
  {
   "cell_type": "code",
   "execution_count": 7,
   "id": "37aaef2e-552f-4e34-a0d5-f3bacee1bd69",
   "metadata": {},
   "outputs": [
    {
     "name": "stdout",
     "output_type": "stream",
     "text": [
      "[1, 2, 3, 4]\n"
     ]
    }
   ],
   "source": [
    "List = [1, 1, 1, 2, 1, 3, 1, 4, 2, 1, 2, 2, 2, 3, 2, 4, 3, 1, 3, 2, 3, 3, 3, 4, 4, 1, 4, 2, 4, 3, 4, 4]\n",
    "List = list(set(List))\n",
    "print(List)"
   ]
  },
  {
   "cell_type": "markdown",
   "id": "56e22ecd-7b85-4679-830f-7af075ba89b3",
   "metadata": {},
   "source": [
    "Q4. Explain the difference between the union() and update() methods for a set. Give an example of\n",
    "each method."
   ]
  },
  {
   "cell_type": "markdown",
   "id": "92201c1f-c76a-4a58-8834-b6ad19f048c1",
   "metadata": {},
   "source": [
    "The union() and update() method is used to join sets but they have different behavior.\n",
    "\n"
   ]
  },
  {
   "cell_type": "code",
   "execution_count": 17,
   "id": "87b2495c-eb74-4bb2-a2ac-894caa006632",
   "metadata": {},
   "outputs": [
    {
     "name": "stdout",
     "output_type": "stream",
     "text": [
      "{1, 2, 3, 4, 5, 6, 7, 8}\n",
      "{1, 2, 3, 4, 5}\n",
      "{8, 5, 6, 7}\n"
     ]
    }
   ],
   "source": [
    "set1 = {1,2,3,4,5}\n",
    "set2 = {5,6,7,8}\n",
    "\n",
    "set3 = set1.union(set2)\n",
    "print(set3)\n",
    "print(set1)\n",
    "print(set2)"
   ]
  },
  {
   "cell_type": "code",
   "execution_count": 16,
   "id": "8354722b-2a01-467b-8109-a5eeda681f02",
   "metadata": {},
   "outputs": [
    {
     "name": "stdout",
     "output_type": "stream",
     "text": [
      "{1, 2, 3, 4, 5, 6, 7, 8}\n",
      "{8, 5, 6, 7}\n"
     ]
    }
   ],
   "source": [
    "set1.update(set2)\n",
    "print(set1)\n",
    "print(set2)"
   ]
  },
  {
   "cell_type": "markdown",
   "id": "17d268e8-bc49-46f6-8e26-690f2a00cec3",
   "metadata": {},
   "source": [
    "The main difference between the union() method and the update() method is that union() returns a new set that contains all the elements from both sets, while update() modifies one of the sets to include all the elements from both sets"
   ]
  },
  {
   "cell_type": "markdown",
   "id": "5d53edab-544d-4b17-9f1c-52d5c37419e5",
   "metadata": {},
   "source": [
    "Q5. What is a dictionary? Give an example. Also, state whether a dictionary is ordered or unordered."
   ]
  },
  {
   "cell_type": "markdown",
   "id": "50f43812-7f61-435b-a6f7-dfd26637872c",
   "metadata": {},
   "source": [
    "Dictionary is an unordered collection that contains key:value pairs separated by commas inside curly brackets. "
   ]
  },
  {
   "cell_type": "markdown",
   "id": "3414b143-7953-45da-b706-72e7a883d54f",
   "metadata": {},
   "source": [
    "d = {1: \"one\", \"parker\": \"pen\", \"L.G\" : \"fridge\", \"teacher\": \"Sudhansu\"}\n",
    "\n"
   ]
  },
  {
   "cell_type": "markdown",
   "id": "ebc35996-db16-42cf-9f57-f9d0e06a8da9",
   "metadata": {},
   "source": [
    "Q6. Can we create a nested dictionary? If so, please give an example by creating a simple one-level\n",
    "nested dictionary."
   ]
  },
  {
   "cell_type": "markdown",
   "id": "d8334f2a-6c70-4021-988b-54dac78d9494",
   "metadata": {},
   "source": [
    "Yes we can create a nested dictionary"
   ]
  },
  {
   "cell_type": "markdown",
   "id": "8328ca91-a6a2-44bb-8528-a532caca0e35",
   "metadata": {},
   "source": [
    "nested_dict = { dict_1 : {\"name1\" : \"Swati\",}, dict_2 : {\"name2\" : \"Sambhav\"}}"
   ]
  },
  {
   "cell_type": "markdown",
   "id": "d6fd5e62-4800-4c4e-9e09-81219f14f6de",
   "metadata": {},
   "source": [
    "Q7. Using setdefault() method, create key named topics in the given dictionary and also add the value of\n",
    "the key as this list ['Python', 'Machine Learning’, 'Deep Learning']\n",
    "dict1 = {'language' : 'Python', 'course': 'Data Science Masters'}"
   ]
  },
  {
   "cell_type": "code",
   "execution_count": 2,
   "id": "ba8e24a3-41b5-43e5-b8c8-6a537bcb16a0",
   "metadata": {},
   "outputs": [
    {
     "name": "stdout",
     "output_type": "stream",
     "text": [
      "{'language1': 'Python', 'language2': 'Machine Learning', 'language3': 'Deep Learning', 'language4': 'Data Science Masters'}\n"
     ]
    }
   ],
   "source": [
    "list = ['Python', 'Machine Learning', 'Deep Learning']\n",
    "\n",
    "dict1 =  {'language1' : 'Python', 'language2': 'Machine Learning', 'language3': 'Deep Learning'}\n",
    "\n",
    "dict1.setdefault(\"language4\", \"Data Science Masters\") \n",
    "print(dict1)"
   ]
  },
  {
   "cell_type": "code",
   "execution_count": 21,
   "id": "33b42e9c-a884-4095-b4fa-58debcdddd42",
   "metadata": {},
   "outputs": [
    {
     "name": "stdout",
     "output_type": "stream",
     "text": [
      "{'Language': ['Python', 'Machine Learning', 'Deep Learning'], 'course': 'Data Science Masters', 'a': 'b'}\n"
     ]
    }
   ],
   "source": [
    "list = ['Python', 'Machine Learning', 'Deep Learning']\n",
    "\n",
    "dict1 = {'Language': ['Python', 'Machine Learning', 'Deep Learning'], 'course':'Data Science Masters'}\n",
    "\n",
    "dict1.setdefault(\"a\",\"b\")\n",
    "print(dict1)"
   ]
  },
  {
   "cell_type": "code",
   "execution_count": null,
   "id": "f42fa3d5-a44c-4e37-87d8-fe4bb16cd122",
   "metadata": {},
   "outputs": [],
   "source": []
  },
  {
   "cell_type": "markdown",
   "id": "e2afdfcb-76b3-4ae6-abf2-23885203f46c",
   "metadata": {},
   "source": [
    "Q8. What are the three view objects in dictionaries? Use the three in-built methods in python to display\n",
    "these three view objects for the given dictionary.\n",
    "dict1 = {'Sport': 'Cricket' , 'Teams': ['India', 'Australia', 'England', 'South Africa', 'Sri Lanka', 'New Zealand']}"
   ]
  },
  {
   "cell_type": "markdown",
   "id": "ee7e274b-274d-4d97-bbd4-4cd0143a972e",
   "metadata": {},
   "source": [
    "3 view objects in dictionaries are:\n",
    "\n",
    "    i. keys() — shows us all the keys of a given dictionary\n",
    "    ii. values() — shows us all values of a dictionary\n",
    "    iii. items() — shows us all the key-value pairs of a dictionary"
   ]
  },
  {
   "cell_type": "code",
   "execution_count": 24,
   "id": "a1c3d23c-04a9-472c-978c-97358c8f21da",
   "metadata": {},
   "outputs": [],
   "source": [
    " dict1 = {'Sport': 'Cricket' , 'Teams': ['India', 'Australia', 'England', 'South Africa', 'Sri Lanka', 'New Zealand']}"
   ]
  },
  {
   "cell_type": "code",
   "execution_count": 29,
   "id": "068ae84a-8225-4e9a-9f55-e7ddf8b3ff8c",
   "metadata": {},
   "outputs": [
    {
     "name": "stdout",
     "output_type": "stream",
     "text": [
      "dict_keys(['Sport', 'Teams'])\n"
     ]
    }
   ],
   "source": [
    "obj = dict1.keys()\n",
    "print(obj)"
   ]
  },
  {
   "cell_type": "code",
   "execution_count": 26,
   "id": "4483837f-7f4a-4ce0-8f55-32cef94f1b8a",
   "metadata": {},
   "outputs": [
    {
     "data": {
      "text/plain": [
       "dict_values(['Cricket', ['India', 'Australia', 'England', 'South Africa', 'Sri Lanka', 'New Zealand']])"
      ]
     },
     "execution_count": 26,
     "metadata": {},
     "output_type": "execute_result"
    }
   ],
   "source": [
    "dict1.values()"
   ]
  },
  {
   "cell_type": "code",
   "execution_count": 27,
   "id": "2a7b9c75-344c-4056-af0a-bad633c8274a",
   "metadata": {},
   "outputs": [
    {
     "data": {
      "text/plain": [
       "dict_items([('Sport', 'Cricket'), ('Teams', ['India', 'Australia', 'England', 'South Africa', 'Sri Lanka', 'New Zealand'])])"
      ]
     },
     "execution_count": 27,
     "metadata": {},
     "output_type": "execute_result"
    }
   ],
   "source": [
    "dict1.items()"
   ]
  },
  {
   "cell_type": "code",
   "execution_count": null,
   "id": "ada43d5a-39ef-49f5-a8ed-acdf2ed5fe51",
   "metadata": {},
   "outputs": [],
   "source": []
  }
 ],
 "metadata": {
  "kernelspec": {
   "display_name": "Python 3 (ipykernel)",
   "language": "python",
   "name": "python3"
  },
  "language_info": {
   "codemirror_mode": {
    "name": "ipython",
    "version": 3
   },
   "file_extension": ".py",
   "mimetype": "text/x-python",
   "name": "python",
   "nbconvert_exporter": "python",
   "pygments_lexer": "ipython3",
   "version": "3.10.8"
  }
 },
 "nbformat": 4,
 "nbformat_minor": 5
}
