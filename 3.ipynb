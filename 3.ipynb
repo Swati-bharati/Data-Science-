{
 "cells": [
  {
   "cell_type": "markdown",
   "id": "6c5b530e-fac5-45a1-9472-9c0a044f272b",
   "metadata": {},
   "source": [
    "## Logical Operators\n",
    "1. and\n",
    "2. or\n",
    "3. not"
   ]
  },
  {
   "cell_type": "code",
   "execution_count": 1,
   "id": "28548af4-cad8-4d40-8537-82bbe37f7f12",
   "metadata": {},
   "outputs": [
    {
     "data": {
      "text/plain": [
       "True"
      ]
     },
     "execution_count": 1,
     "metadata": {},
     "output_type": "execute_result"
    }
   ],
   "source": [
    "True and True"
   ]
  },
  {
   "cell_type": "code",
   "execution_count": 1,
   "id": "bf03f1e8-cc17-48a7-a71b-c8679791ce6e",
   "metadata": {},
   "outputs": [
    {
     "data": {
      "text/plain": [
       "True"
      ]
     },
     "execution_count": 1,
     "metadata": {},
     "output_type": "execute_result"
    }
   ],
   "source": [
    "True or False"
   ]
  },
  {
   "cell_type": "code",
   "execution_count": 5,
   "id": "6f5181a8-b0cf-490c-9a0b-6e19e03793ec",
   "metadata": {},
   "outputs": [
    {
     "name": "stdout",
     "output_type": "stream",
     "text": [
      "Defined value of START = True\n",
      "Defined value of STOP = False \n",
      "\n",
      "Defined value of START = True\n",
      "Value of STOP by negating START = False \n",
      "\n",
      "Value of START by negating STOP = True\n",
      "Defined value of STOP = False \n",
      "\n"
     ]
    }
   ],
   "source": [
    "##let's define two variables with boolean values True and False-\n",
    "START = True\n",
    "STOP = False\n",
    "\n",
    "# Print the value as it is\n",
    "print(f\"Defined value of START = {START}\")\n",
    "print(f\"Defined value of STOP = {STOP} \\n\")\n",
    "\n",
    "# it can also be written as\n",
    "print(f\"Defined value of START = {START}\")\n",
    "print(f\"Value of STOP by negating START = {not START} \\n\")\n",
    "\n",
    "# alternatively it can also be written as\n",
    "print(f\"Value of START by negating STOP = {not STOP}\" )\n",
    "print(f\"Defined value of STOP = {STOP} \\n\")\n",
    "\n"
   ]
  },
  {
   "cell_type": "code",
   "execution_count": 6,
   "id": "9e81878f-a261-4537-8e18-9204dae1600c",
   "metadata": {},
   "outputs": [
    {
     "data": {
      "text/plain": [
       "False"
      ]
     },
     "execution_count": 6,
     "metadata": {},
     "output_type": "execute_result"
    }
   ],
   "source": [
    "not True"
   ]
  },
  {
   "cell_type": "code",
   "execution_count": 7,
   "id": "ed33602f-d1d5-457d-89a9-4a2346b2d4d1",
   "metadata": {},
   "outputs": [
    {
     "data": {
      "text/plain": [
       "True"
      ]
     },
     "execution_count": 7,
     "metadata": {},
     "output_type": "execute_result"
    }
   ],
   "source": [
    "not bool(0)"
   ]
  },
  {
   "cell_type": "code",
   "execution_count": 8,
   "id": "22b09c11-d2ee-4bd1-aa5e-128368a26570",
   "metadata": {},
   "outputs": [
    {
     "data": {
      "text/plain": [
       "0"
      ]
     },
     "execution_count": 8,
     "metadata": {},
     "output_type": "execute_result"
    }
   ],
   "source": [
    "int(bool(0))"
   ]
  },
  {
   "cell_type": "code",
   "execution_count": 9,
   "id": "a16bd0b7-15da-4f88-b407-707ddb0c3a00",
   "metadata": {},
   "outputs": [
    {
     "data": {
      "text/plain": [
       "True"
      ]
     },
     "execution_count": 9,
     "metadata": {},
     "output_type": "execute_result"
    }
   ],
   "source": [
    "not int(bool(0))"
   ]
  },
  {
   "cell_type": "code",
   "execution_count": 10,
   "id": "61885956-3b3f-4292-a6fe-71e52706b1c3",
   "metadata": {},
   "outputs": [
    {
     "data": {
      "text/plain": [
       "True"
      ]
     },
     "execution_count": 10,
     "metadata": {},
     "output_type": "execute_result"
    }
   ],
   "source": [
    "bool(1)"
   ]
  },
  {
   "cell_type": "code",
   "execution_count": 12,
   "id": "48e53ac9-cc5a-4a1f-a482-5d1f28994f05",
   "metadata": {},
   "outputs": [
    {
     "data": {
      "text/plain": [
       "1"
      ]
     },
     "execution_count": 12,
     "metadata": {},
     "output_type": "execute_result"
    }
   ],
   "source": [
    "int(bool(1))\n"
   ]
  },
  {
   "cell_type": "code",
   "execution_count": 13,
   "id": "42ab8a90-08d1-440c-be97-a06e1c2c9d16",
   "metadata": {},
   "outputs": [
    {
     "data": {
      "text/plain": [
       "False"
      ]
     },
     "execution_count": 13,
     "metadata": {},
     "output_type": "execute_result"
    }
   ],
   "source": [
    "not int(bool(1))\n"
   ]
  },
  {
   "cell_type": "code",
   "execution_count": 14,
   "id": "adfa7ac9-aa96-4d76-b31f-d1e7f4133f74",
   "metadata": {},
   "outputs": [
    {
     "data": {
      "text/plain": [
       "False"
      ]
     },
     "execution_count": 14,
     "metadata": {},
     "output_type": "execute_result"
    }
   ],
   "source": [
    "not 1"
   ]
  },
  {
   "cell_type": "code",
   "execution_count": 15,
   "id": "64f4eedb-bf38-4d6e-8f6b-5534a6440ca5",
   "metadata": {},
   "outputs": [
    {
     "data": {
      "text/plain": [
       "True"
      ]
     },
     "execution_count": 15,
     "metadata": {},
     "output_type": "execute_result"
    }
   ],
   "source": [
    "not 0"
   ]
  },
  {
   "cell_type": "code",
   "execution_count": 17,
   "id": "89c97692-e006-4842-bd93-f9d395b3d974",
   "metadata": {},
   "outputs": [
    {
     "name": "stdout",
     "output_type": "stream",
     "text": [
      "Defined value of START = 1\n",
      "Defined value of STOP = 0 \n",
      "\n",
      "Defined value of START = 1\n",
      "Value of STOP by negating START = 0 \n",
      "\n",
      "Value of START by negating STOP = 1\n",
      "Defined value of STOP = 0 \n",
      "\n"
     ]
    }
   ],
   "source": [
    "START = 1\n",
    "STOP = 0\n",
    "\n",
    "# Print the value as it is\n",
    "print(f\"Defined value of START = {START}\")\n",
    "print(f\"Defined value of STOP = {STOP} \\n\")\n",
    "\n",
    "# it can also be written as\n",
    "print(f\"Defined value of START = {START}\")\n",
    "print(f\"Value of STOP by negating START = {int(not START)} \\n\")\n",
    "\n",
    "# alternatively it can also be written as\n",
    "print(f\"Value of START by negating STOP = {int(not STOP)}\" )\n",
    "print(f\"Defined value of STOP = {STOP} \\n\")"
   ]
  },
  {
   "cell_type": "code",
   "execution_count": 1,
   "id": "969a6557-ea85-4fc6-84c3-e882a20730de",
   "metadata": {},
   "outputs": [
    {
     "data": {
      "text/plain": [
       "False"
      ]
     },
     "execution_count": 1,
     "metadata": {},
     "output_type": "execute_result"
    }
   ],
   "source": [
    "# not of any number other than 0 \n",
    "\n",
    "not bool(2000)"
   ]
  },
  {
   "cell_type": "code",
   "execution_count": 2,
   "id": "82f1ce88-bd85-4114-9d81-5003f01c6e16",
   "metadata": {},
   "outputs": [
    {
     "data": {
      "text/plain": [
       "True"
      ]
     },
     "execution_count": 2,
     "metadata": {},
     "output_type": "execute_result"
    }
   ],
   "source": [
    "bool(5)"
   ]
  },
  {
   "cell_type": "code",
   "execution_count": 2,
   "id": "ac7e9ec9-6ea3-4da4-916f-30faaee948b7",
   "metadata": {},
   "outputs": [
    {
     "name": "stdout",
     "output_type": "stream",
     "text": [
      "boolean value of number 1 is True\n",
      "boolean value of number 0 is False\n",
      "negation of 1 is False and negation of 0 is True\n",
      "\n",
      "----------------------------------------\n",
      "\n"
     ]
    }
   ],
   "source": [
    "zero = 1\n",
    "one = 0 \n",
    "\n",
    "print(f\"boolean value of number {zero} is {bool(zero)}\")\n",
    "print(f\"boolean value of number {one} is {bool(one)}\")\n",
    "print(f\"negation of {zero} is {not zero} and negation of {one} is {not one}\")\n",
    "print(\"\\n----------------------------------------\\n\")"
   ]
  },
  {
   "cell_type": "code",
   "execution_count": 5,
   "id": "98df112d-3469-45a2-bc72-dd550f806cbe",
   "metadata": {},
   "outputs": [
    {
     "name": "stdout",
     "output_type": "stream",
     "text": [
      "boolean value of -5 is True\n",
      "boolean value of 5 is True\n",
      "negation of -5 is False and negation of 5 is False\n",
      "\n",
      "#---------------------------------------------#\n",
      "\n"
     ]
    }
   ],
   "source": [
    "some_negative_integer = -5\n",
    "some_positive_integer = 5\n",
    "\n",
    "print(f\"boolean value of {some_negative_integer} is {bool(some_negative_integer)}\")\n",
    "print(f\"boolean value of {some_positive_integer} is {bool(some_positive_integer)}\")\n",
    "print(f\"negation of {some_negative_integer} is {not some_negative_integer} and negation of {some_positive_integer} is {not some_positive_integer}\")\n",
    "print(\"\\n#---------------------------------------------#\\n\")"
   ]
  },
  {
   "cell_type": "code",
   "execution_count": 7,
   "id": "183b1f7a-c55e-4d52-afc4-1adac3b47254",
   "metadata": {},
   "outputs": [
    {
     "name": "stdout",
     "output_type": "stream",
     "text": [
      "boolean value of -5.799 is True\n",
      "boolean value of 5.6 is True\n",
      "negation of -5.799 is False and negation of 5.6 is False\n",
      "\n",
      "#---------------------------------------------#\n",
      "\n"
     ]
    }
   ],
   "source": [
    "some_negative_float = -5.799\n",
    "some_positive_float = 5.6\n",
    "\n",
    "print(f\"boolean value of {some_negative_float} is {bool(some_negative_float)}\")\n",
    "print(f\"boolean value of {some_positive_float} is {bool(some_positive_float)}\")\n",
    "print(f\"negation of {some_negative_float} is {not some_negative_float} \\\n",
    "and negation of {some_positive_float} is {not some_positive_float}\")\n",
    "print(\"\\n#---------------------------------------------#\\n\")"
   ]
  },
  {
   "cell_type": "markdown",
   "id": "4fca4f0d-0293-4ff4-b5ac-33e73c3d50ab",
   "metadata": {},
   "source": [
    "## Logical And"
   ]
  },
  {
   "cell_type": "code",
   "execution_count": 9,
   "id": "9bde7a54-3842-4cec-b606-9c87dc118633",
   "metadata": {},
   "outputs": [
    {
     "name": "stdout",
     "output_type": "stream",
     "text": [
      " Dish contains VEGETABLES: True\n",
      " Dish contains SALT: False\n",
      " Dish prepared was good: False\n"
     ]
    }
   ],
   "source": [
    "VEGETABLES = True\n",
    "SALT = False\n",
    "DISH = VEGETABLES and SALT\n",
    "\n",
    "print(f\" Dish contains VEGETABLES: {VEGETABLES}\")\n",
    "print(f\" Dish contains SALT: {SALT}\")\n",
    "print(f\" Dish prepared was good: {DISH}\")"
   ]
  },
  {
   "cell_type": "code",
   "execution_count": 10,
   "id": "21d59f73-3aa0-42d8-80bc-f9223898abb6",
   "metadata": {},
   "outputs": [
    {
     "data": {
      "text/plain": [
       "0"
      ]
     },
     "execution_count": 10,
     "metadata": {},
     "output_type": "execute_result"
    }
   ],
   "source": [
    "True*False"
   ]
  },
  {
   "cell_type": "code",
   "execution_count": 11,
   "id": "72dfbdc8-8038-4c4f-b550-bc05918ae99e",
   "metadata": {},
   "outputs": [
    {
     "data": {
      "text/plain": [
       "0"
      ]
     },
     "execution_count": 11,
     "metadata": {},
     "output_type": "execute_result"
    }
   ],
   "source": [
    "1*0"
   ]
  },
  {
   "cell_type": "code",
   "execution_count": 12,
   "id": "cd20c78b-d918-4701-ad9d-1349c8b7b5a6",
   "metadata": {},
   "outputs": [
    {
     "data": {
      "text/plain": [
       "True"
      ]
     },
     "execution_count": 12,
     "metadata": {},
     "output_type": "execute_result"
    }
   ],
   "source": [
    "not False * True"
   ]
  },
  {
   "cell_type": "code",
   "execution_count": 13,
   "id": "eafe74ec-1229-4fae-abeb-81e4e0cfe53b",
   "metadata": {},
   "outputs": [
    {
     "data": {
      "text/plain": [
       "0"
      ]
     },
     "execution_count": 13,
     "metadata": {},
     "output_type": "execute_result"
    }
   ],
   "source": [
    "False * False"
   ]
  },
  {
   "cell_type": "code",
   "execution_count": 16,
   "id": "8b4b0167-e2d9-49a7-bf01-1bd9149ccbe6",
   "metadata": {},
   "outputs": [
    {
     "data": {
      "text/plain": [
       "0"
      ]
     },
     "execution_count": 16,
     "metadata": {},
     "output_type": "execute_result"
    }
   ],
   "source": [
    "False * (not (False))"
   ]
  },
  {
   "cell_type": "code",
   "execution_count": 18,
   "id": "054eef05-c08b-4e0d-89f3-276bc3e53e15",
   "metadata": {},
   "outputs": [
    {
     "data": {
      "text/plain": [
       "True"
      ]
     },
     "execution_count": 18,
     "metadata": {},
     "output_type": "execute_result"
    }
   ],
   "source": [
    "# Apply bodmas rule\n",
    "\n",
    "not True * False"
   ]
  },
  {
   "cell_type": "code",
   "execution_count": 21,
   "id": "cde3da94-8831-4fea-aa4e-3c02b67627bc",
   "metadata": {},
   "outputs": [
    {
     "data": {
      "text/plain": [
       "0"
      ]
     },
     "execution_count": 21,
     "metadata": {},
     "output_type": "execute_result"
    }
   ],
   "source": [
    "(not(True)) * False"
   ]
  },
  {
   "cell_type": "code",
   "execution_count": 26,
   "id": "e56aad64-c405-4a06-bcc4-3d6b5107863f",
   "metadata": {},
   "outputs": [
    {
     "name": "stdout",
     "output_type": "stream",
     "text": [
      "True\n"
     ]
    }
   ],
   "source": [
    "print(not (False) * False)"
   ]
  },
  {
   "cell_type": "code",
   "execution_count": 27,
   "id": "67451d32-d1dd-47cc-8724-6d014be7223b",
   "metadata": {},
   "outputs": [
    {
     "name": "stdout",
     "output_type": "stream",
     "text": [
      "0\n"
     ]
    }
   ],
   "source": [
    "print((not (False)) * False)"
   ]
  },
  {
   "cell_type": "code",
   "execution_count": 43,
   "id": "8fa9e1b5-4077-4c16-8026-c4668f67ab64",
   "metadata": {},
   "outputs": [
    {
     "name": "stdout",
     "output_type": "stream",
     "text": [
      "140568715384512\n",
      "140568715481216\n"
     ]
    }
   ],
   "source": [
    "lst_a=[1,2,3,4]\n",
    "lst_b=[1,2,3,4]\n",
    "\n",
    "print(id(lst_a))\n",
    "print(id(lst_b))"
   ]
  },
  {
   "cell_type": "code",
   "execution_count": 44,
   "id": "71dbd608-1def-4825-9a0e-db42e0dc8206",
   "metadata": {},
   "outputs": [
    {
     "name": "stdout",
     "output_type": "stream",
     "text": [
      "140568715384512\n"
     ]
    }
   ],
   "source": [
    "\n",
    "print(id(lst_a))"
   ]
  },
  {
   "cell_type": "code",
   "execution_count": 45,
   "id": "c0d06b1c-1293-4d94-8dec-00f1f251cecc",
   "metadata": {},
   "outputs": [
    {
     "data": {
      "text/plain": [
       "False"
      ]
     },
     "execution_count": 45,
     "metadata": {},
     "output_type": "execute_result"
    }
   ],
   "source": [
    "lst_a is lst_b"
   ]
  },
  {
   "cell_type": "code",
   "execution_count": 2,
   "id": "3c17dee1-8b5a-4c07-b147-4ab99d2a374e",
   "metadata": {},
   "outputs": [
    {
     "name": "stdout",
     "output_type": "stream",
     "text": [
      "140683939184704\n",
      "140683939184704\n"
     ]
    }
   ],
   "source": [
    "lst_a=[1,2,3,4]\n",
    "lst_b=lst_a\n",
    "\n",
    "print(id(lst_a))\n",
    "print(id(lst_b))"
   ]
  },
  {
   "cell_type": "code",
   "execution_count": 3,
   "id": "357a8459-8a34-47b4-9b05-ac69e99ab0aa",
   "metadata": {},
   "outputs": [
    {
     "data": {
      "text/plain": [
       "True"
      ]
     },
     "execution_count": 3,
     "metadata": {},
     "output_type": "execute_result"
    }
   ],
   "source": [
    "lst_a is lst_b"
   ]
  },
  {
   "cell_type": "code",
   "execution_count": 4,
   "id": "de45f6b1-56f9-4fc1-8103-1a00a5044de7",
   "metadata": {},
   "outputs": [
    {
     "data": {
      "text/plain": [
       "True"
      ]
     },
     "execution_count": 4,
     "metadata": {},
     "output_type": "execute_result"
    }
   ],
   "source": [
    "lst_a=[1,2,3,4]\n",
    "lst_b=[1,2,3,4]\n",
    "\n",
    "lst_a is not lst_b"
   ]
  },
  {
   "cell_type": "code",
   "execution_count": 5,
   "id": "45ff258b-b66f-4ff8-80ae-f43e9cc608f4",
   "metadata": {},
   "outputs": [
    {
     "data": {
      "text/plain": [
       "True"
      ]
     },
     "execution_count": 5,
     "metadata": {},
     "output_type": "execute_result"
    }
   ],
   "source": [
    "# Element check inside list \n",
    "\n",
    "lst_a == lst_b"
   ]
  },
  {
   "cell_type": "code",
   "execution_count": 6,
   "id": "f7f894a1-9325-419c-96ae-e69322951a28",
   "metadata": {},
   "outputs": [
    {
     "name": "stdout",
     "output_type": "stream",
     "text": [
      "140684048318736\n",
      "140684048318736\n"
     ]
    }
   ],
   "source": [
    "a=2\n",
    "b=2\n",
    "\n",
    "print(id(a))\n",
    "print(id(b))"
   ]
  },
  {
   "cell_type": "code",
   "execution_count": 7,
   "id": "f60c0e19-63bf-4937-b9dc-398a24ab64ba",
   "metadata": {},
   "outputs": [
    {
     "name": "stdout",
     "output_type": "stream",
     "text": [
      "140683939104560\n",
      "140683939104560\n"
     ]
    }
   ],
   "source": [
    "str1=\"Swati\"\n",
    "str2=\"Swati\"\n",
    "\n",
    "print(id(str1))\n",
    "print(id(str2))"
   ]
  },
  {
   "cell_type": "code",
   "execution_count": 8,
   "id": "a5952959-1118-4016-a352-a5aa7bd56223",
   "metadata": {},
   "outputs": [
    {
     "name": "stdout",
     "output_type": "stream",
     "text": [
      "140683939104560\n",
      "140683939103536\n"
     ]
    }
   ],
   "source": [
    "str1=\"Swati\"\n",
    "str2=\"Swati1\"\n",
    "\n",
    "print(id(str1))\n",
    "print(id(str2))"
   ]
  },
  {
   "cell_type": "code",
   "execution_count": 9,
   "id": "51b2bc58-26b6-4386-8a49-631feb6cdea7",
   "metadata": {},
   "outputs": [
    {
     "data": {
      "text/plain": [
       "[1, 2, 3, 4]"
      ]
     },
     "execution_count": 9,
     "metadata": {},
     "output_type": "execute_result"
    }
   ],
   "source": [
    "lst_a"
   ]
  },
  {
   "cell_type": "code",
   "execution_count": 11,
   "id": "8773c06e-5adc-4eb0-9ec3-ce898f9656d7",
   "metadata": {},
   "outputs": [
    {
     "data": {
      "text/plain": [
       "1"
      ]
     },
     "execution_count": 11,
     "metadata": {},
     "output_type": "execute_result"
    }
   ],
   "source": [
    "lst_a[0]"
   ]
  },
  {
   "cell_type": "code",
   "execution_count": 14,
   "id": "2bb33b27-8eb0-4432-b9d4-7b3cd9d2d3e5",
   "metadata": {},
   "outputs": [
    {
     "data": {
      "text/plain": [
       "[10, 2, 3, 4]"
      ]
     },
     "execution_count": 14,
     "metadata": {},
     "output_type": "execute_result"
    }
   ],
   "source": [
    "lst_a[0]=10\n",
    "\n",
    "lst_a"
   ]
  },
  {
   "cell_type": "code",
   "execution_count": 15,
   "id": "04cd03d1-ebf8-449a-bf28-b0bb53145b87",
   "metadata": {},
   "outputs": [
    {
     "data": {
      "text/plain": [
       "'Swati'"
      ]
     },
     "execution_count": 15,
     "metadata": {},
     "output_type": "execute_result"
    }
   ],
   "source": [
    "str1"
   ]
  },
  {
   "cell_type": "code",
   "execution_count": 16,
   "id": "83b14f52-30ef-4b65-836d-7ac492225ebe",
   "metadata": {},
   "outputs": [
    {
     "data": {
      "text/plain": [
       "'S'"
      ]
     },
     "execution_count": 16,
     "metadata": {},
     "output_type": "execute_result"
    }
   ],
   "source": [
    "str1[0]"
   ]
  },
  {
   "cell_type": "code",
   "execution_count": 17,
   "id": "fe9405a8-0399-4e3d-b41d-8d540bbeaa4b",
   "metadata": {},
   "outputs": [
    {
     "ename": "NameError",
     "evalue": "name 'T' is not defined",
     "output_type": "error",
     "traceback": [
      "\u001b[0;31m---------------------------------------------------------------------------\u001b[0m",
      "\u001b[0;31mNameError\u001b[0m                                 Traceback (most recent call last)",
      "Cell \u001b[0;32mIn[17], line 1\u001b[0m\n\u001b[0;32m----> 1\u001b[0m str1[\u001b[38;5;241m0\u001b[39m]\u001b[38;5;241m=\u001b[39m\u001b[43mT\u001b[49m\n",
      "\u001b[0;31mNameError\u001b[0m: name 'T' is not defined"
     ]
    }
   ],
   "source": [
    "str1[0]=T"
   ]
  },
  {
   "cell_type": "code",
   "execution_count": 18,
   "id": "e6202784-97c5-4228-a34d-84818603f15a",
   "metadata": {},
   "outputs": [
    {
     "name": "stdout",
     "output_type": "stream",
     "text": [
      "bike is faster than car: False\n"
     ]
    }
   ],
   "source": [
    "## Comparison Operations\n",
    "\n",
    "maximum_speed_of_bike = 150\n",
    "maximum_speed_of_car = 200\n",
    "\n",
    "print(f\"bike is faster than car: {maximum_speed_of_bike > maximum_speed_of_car }\")"
   ]
  },
  {
   "cell_type": "markdown",
   "id": "f616acd9-12a2-42c6-91c2-3a2ad3985144",
   "metadata": {},
   "source": [
    "## Arithmatic Operations"
   ]
  },
  {
   "cell_type": "code",
   "execution_count": 24,
   "id": "21fc9906-5921-4527-9190-676627f5a604",
   "metadata": {},
   "outputs": [],
   "source": [
    "a=25\n",
    "b=101"
   ]
  },
  {
   "cell_type": "code",
   "execution_count": 25,
   "id": "4b590347-9030-4f1a-b421-33c4328618b0",
   "metadata": {},
   "outputs": [
    {
     "data": {
      "text/plain": [
       "2525"
      ]
     },
     "execution_count": 25,
     "metadata": {},
     "output_type": "execute_result"
    }
   ],
   "source": [
    "\n",
    "a*b"
   ]
  },
  {
   "cell_type": "code",
   "execution_count": 26,
   "id": "4ca8397b-65de-41e9-8ab6-ba2b33542d9a",
   "metadata": {},
   "outputs": [
    {
     "data": {
      "text/plain": [
       "2525"
      ]
     },
     "execution_count": 26,
     "metadata": {},
     "output_type": "execute_result"
    }
   ],
   "source": [
    "b*a"
   ]
  },
  {
   "cell_type": "code",
   "execution_count": 27,
   "id": "2648d03c-e99a-46ec-b9ca-d7d88614ab43",
   "metadata": {},
   "outputs": [
    {
     "data": {
      "text/plain": [
       "4.04"
      ]
     },
     "execution_count": 27,
     "metadata": {},
     "output_type": "execute_result"
    }
   ],
   "source": [
    "b/a"
   ]
  },
  {
   "cell_type": "code",
   "execution_count": 28,
   "id": "1ddb591a-cc7d-4de7-b1db-3a92c8843829",
   "metadata": {},
   "outputs": [
    {
     "data": {
      "text/plain": [
       "0.24752475247524752"
      ]
     },
     "execution_count": 28,
     "metadata": {},
     "output_type": "execute_result"
    }
   ],
   "source": [
    "a/b"
   ]
  },
  {
   "cell_type": "code",
   "execution_count": 30,
   "id": "bcc72120-2893-4e5c-a1a1-3fcccb31df3a",
   "metadata": {},
   "outputs": [
    {
     "data": {
      "text/plain": [
       "0"
      ]
     },
     "execution_count": 30,
     "metadata": {},
     "output_type": "execute_result"
    }
   ],
   "source": [
    "###integer division\n",
    "\n",
    "a//b"
   ]
  },
  {
   "cell_type": "code",
   "execution_count": 31,
   "id": "9e50a5ed-b663-4b73-acd8-a4449db8b440",
   "metadata": {},
   "outputs": [
    {
     "data": {
      "text/plain": [
       "1"
      ]
     },
     "execution_count": 31,
     "metadata": {},
     "output_type": "execute_result"
    }
   ],
   "source": [
    "###modulus display the remainder\n",
    "b%a"
   ]
  },
  {
   "cell_type": "code",
   "execution_count": 32,
   "id": "b1ccb94a-45b4-4309-a411-116e271e9dc7",
   "metadata": {},
   "outputs": [
    {
     "data": {
      "text/plain": [
       "25"
      ]
     },
     "execution_count": 32,
     "metadata": {},
     "output_type": "execute_result"
    }
   ],
   "source": [
    "a%b"
   ]
  },
  {
   "cell_type": "markdown",
   "id": "546f6266-7658-4c3b-9002-ad1313882db1",
   "metadata": {},
   "source": [
    "## Bitwise Operations"
   ]
  },
  {
   "cell_type": "markdown",
   "id": "f629edcb-2d45-4350-b19b-9a147f0d0230",
   "metadata": {},
   "source": [
    "### ~ bitwise complement (prefix unary operator)\n",
    "### & bitwise and\n",
    "### | bitwise or\n",
    "### ^ bitwise exclusive-or\n",
    "### << shift  bits left\n",
    "### >> shift bits right"
   ]
  },
  {
   "cell_type": "code",
   "execution_count": 3,
   "id": "e7712e8a-137d-4988-a388-a9d96716ccd9",
   "metadata": {},
   "outputs": [
    {
     "data": {
      "text/plain": [
       "'0b1010'"
      ]
     },
     "execution_count": 3,
     "metadata": {},
     "output_type": "execute_result"
    }
   ],
   "source": [
    "var=10\n",
    "bin(var)"
   ]
  },
  {
   "cell_type": "code",
   "execution_count": 4,
   "id": "50ebd274-8ff7-4c28-8ccd-e0600b2c25dc",
   "metadata": {},
   "outputs": [
    {
     "data": {
      "text/plain": [
       "-11"
      ]
     },
     "execution_count": 4,
     "metadata": {},
     "output_type": "execute_result"
    }
   ],
   "source": [
    "~var"
   ]
  },
  {
   "cell_type": "markdown",
   "id": "798484c9-8ec8-4ebb-9f8f-ed08ca00c181",
   "metadata": {},
   "source": [
    "## 1st data structure STRINGS"
   ]
  },
  {
   "cell_type": "code",
   "execution_count": 6,
   "id": "aa58535e-f0c8-4cea-a93e-1767f2217cbd",
   "metadata": {},
   "outputs": [
    {
     "data": {
      "text/plain": [
       "'Welcome to Data Science Masters Class'"
      ]
     },
     "execution_count": 6,
     "metadata": {},
     "output_type": "execute_result"
    }
   ],
   "source": [
    "\"Welcome to Data Science Masters Class\""
   ]
  },
  {
   "cell_type": "code",
   "execution_count": 7,
   "id": "ac752fc0-bbba-435e-9bcd-3bc87f1d46d0",
   "metadata": {},
   "outputs": [
    {
     "data": {
      "text/plain": [
       "'Swati'"
      ]
     },
     "execution_count": 7,
     "metadata": {},
     "output_type": "execute_result"
    }
   ],
   "source": [
    "'Swati'"
   ]
  },
  {
   "cell_type": "code",
   "execution_count": 8,
   "id": "9664a1b8-7879-4c8c-9290-22051eec23ca",
   "metadata": {},
   "outputs": [],
   "source": [
    "str1= 'Welcome to Data Science Masters'"
   ]
  },
  {
   "cell_type": "code",
   "execution_count": 9,
   "id": "a2c4b613-1684-4ff4-b8a1-d8e8b59450ad",
   "metadata": {},
   "outputs": [
    {
     "data": {
      "text/plain": [
       "str"
      ]
     },
     "execution_count": 9,
     "metadata": {},
     "output_type": "execute_result"
    }
   ],
   "source": [
    "type(str1)"
   ]
  },
  {
   "cell_type": "code",
   "execution_count": 10,
   "id": "c082951f-607c-4145-9f6b-4bf8d98d906a",
   "metadata": {},
   "outputs": [
    {
     "data": {
      "text/plain": [
       "'W'"
      ]
     },
     "execution_count": 10,
     "metadata": {},
     "output_type": "execute_result"
    }
   ],
   "source": [
    "str1[0]"
   ]
  },
  {
   "cell_type": "code",
   "execution_count": 11,
   "id": "1c5f52f8-8619-4b2a-a3a4-7389e5e87d40",
   "metadata": {},
   "outputs": [
    {
     "ename": "TypeError",
     "evalue": "'str' object does not support item assignment",
     "output_type": "error",
     "traceback": [
      "\u001b[0;31m---------------------------------------------------------------------------\u001b[0m",
      "\u001b[0;31mTypeError\u001b[0m                                 Traceback (most recent call last)",
      "Cell \u001b[0;32mIn[11], line 2\u001b[0m\n\u001b[1;32m      1\u001b[0m \u001b[38;5;66;03m### immutable\u001b[39;00m\n\u001b[0;32m----> 2\u001b[0m \u001b[43mstr1\u001b[49m\u001b[43m[\u001b[49m\u001b[38;5;241;43m0\u001b[39;49m\u001b[43m]\u001b[49m\u001b[38;5;241m=\u001b[39m\u001b[38;5;241m12\u001b[39m\n",
      "\u001b[0;31mTypeError\u001b[0m: 'str' object does not support item assignment"
     ]
    }
   ],
   "source": [
    "### immutable\n",
    "str1[0]=12"
   ]
  },
  {
   "cell_type": "code",
   "execution_count": 13,
   "id": "e93cbb1f-1be2-4517-9363-3f6527fd4b1f",
   "metadata": {},
   "outputs": [],
   "source": [
    "str1=\"int(12)\""
   ]
  },
  {
   "cell_type": "code",
   "execution_count": 19,
   "id": "02c36e64-2893-4388-a5ae-4a05476a18fa",
   "metadata": {},
   "outputs": [
    {
     "data": {
      "text/plain": [
       "'Swati Bharati'"
      ]
     },
     "execution_count": 19,
     "metadata": {},
     "output_type": "execute_result"
    }
   ],
   "source": [
    "str1=\"Swati Bharati\"\n",
    "str1"
   ]
  },
  {
   "cell_type": "code",
   "execution_count": 24,
   "id": "6dadab5c-2a79-4045-a95c-99cb246c0718",
   "metadata": {},
   "outputs": [
    {
     "ename": "AttributeError",
     "evalue": "'str' object has no attribute 'tab'",
     "output_type": "error",
     "traceback": [
      "\u001b[0;31m---------------------------------------------------------------------------\u001b[0m",
      "\u001b[0;31mAttributeError\u001b[0m                            Traceback (most recent call last)",
      "Cell \u001b[0;32mIn[24], line 1\u001b[0m\n\u001b[0;32m----> 1\u001b[0m \u001b[43mstr1\u001b[49m\u001b[38;5;241;43m.\u001b[39;49m\u001b[43mtab\u001b[49m\n",
      "\u001b[0;31mAttributeError\u001b[0m: 'str' object has no attribute 'tab'"
     ]
    }
   ],
   "source": [
    "str1.tab"
   ]
  },
  {
   "cell_type": "code",
   "execution_count": 25,
   "id": "7b47f1fe-c40b-410b-ad49-387089856e17",
   "metadata": {},
   "outputs": [
    {
     "data": {
      "text/plain": [
       "['__add__',\n",
       " '__class__',\n",
       " '__contains__',\n",
       " '__delattr__',\n",
       " '__dir__',\n",
       " '__doc__',\n",
       " '__eq__',\n",
       " '__format__',\n",
       " '__ge__',\n",
       " '__getattribute__',\n",
       " '__getitem__',\n",
       " '__getnewargs__',\n",
       " '__gt__',\n",
       " '__hash__',\n",
       " '__init__',\n",
       " '__init_subclass__',\n",
       " '__iter__',\n",
       " '__le__',\n",
       " '__len__',\n",
       " '__lt__',\n",
       " '__mod__',\n",
       " '__mul__',\n",
       " '__ne__',\n",
       " '__new__',\n",
       " '__reduce__',\n",
       " '__reduce_ex__',\n",
       " '__repr__',\n",
       " '__rmod__',\n",
       " '__rmul__',\n",
       " '__setattr__',\n",
       " '__sizeof__',\n",
       " '__str__',\n",
       " '__subclasshook__',\n",
       " 'capitalize',\n",
       " 'casefold',\n",
       " 'center',\n",
       " 'count',\n",
       " 'encode',\n",
       " 'endswith',\n",
       " 'expandtabs',\n",
       " 'find',\n",
       " 'format',\n",
       " 'format_map',\n",
       " 'index',\n",
       " 'isalnum',\n",
       " 'isalpha',\n",
       " 'isascii',\n",
       " 'isdecimal',\n",
       " 'isdigit',\n",
       " 'isidentifier',\n",
       " 'islower',\n",
       " 'isnumeric',\n",
       " 'isprintable',\n",
       " 'isspace',\n",
       " 'istitle',\n",
       " 'isupper',\n",
       " 'join',\n",
       " 'ljust',\n",
       " 'lower',\n",
       " 'lstrip',\n",
       " 'maketrans',\n",
       " 'partition',\n",
       " 'removeprefix',\n",
       " 'removesuffix',\n",
       " 'replace',\n",
       " 'rfind',\n",
       " 'rindex',\n",
       " 'rjust',\n",
       " 'rpartition',\n",
       " 'rsplit',\n",
       " 'rstrip',\n",
       " 'split',\n",
       " 'splitlines',\n",
       " 'startswith',\n",
       " 'strip',\n",
       " 'swapcase',\n",
       " 'title',\n",
       " 'translate',\n",
       " 'upper',\n",
       " 'zfill']"
      ]
     },
     "execution_count": 25,
     "metadata": {},
     "output_type": "execute_result"
    }
   ],
   "source": [
    "dir(str1)"
   ]
  },
  {
   "cell_type": "code",
   "execution_count": 26,
   "id": "7095f764-b0da-48bb-8cd1-afe8f2e892b0",
   "metadata": {},
   "outputs": [],
   "source": [
    "string=\"Data Science Masters\""
   ]
  },
  {
   "cell_type": "code",
   "execution_count": 27,
   "id": "dcfd28ee-8d45-441c-b6e6-78b629646172",
   "metadata": {},
   "outputs": [
    {
     "data": {
      "text/plain": [
       "'S'"
      ]
     },
     "execution_count": 27,
     "metadata": {},
     "output_type": "execute_result"
    }
   ],
   "source": [
    "string[5]"
   ]
  },
  {
   "cell_type": "code",
   "execution_count": 30,
   "id": "b678f673-2caa-4dcb-aea8-31f22002228b",
   "metadata": {},
   "outputs": [
    {
     "data": {
      "text/plain": [
       "'Science Masters'"
      ]
     },
     "execution_count": 30,
     "metadata": {},
     "output_type": "execute_result"
    }
   ],
   "source": [
    "#### slice operation\n",
    "\n",
    "string[5:]"
   ]
  },
  {
   "cell_type": "code",
   "execution_count": 31,
   "id": "8b1c7e4b-2b1e-4dea-b933-64c97ca57c5b",
   "metadata": {},
   "outputs": [
    {
     "data": {
      "text/plain": [
       "'Scienc'"
      ]
     },
     "execution_count": 31,
     "metadata": {},
     "output_type": "execute_result"
    }
   ],
   "source": [
    "### 5th element to 10th element including space\n",
    "\n",
    "string[5:11]"
   ]
  },
  {
   "cell_type": "code",
   "execution_count": 32,
   "id": "774ebee2-5230-49d8-8fa3-570ec2794603",
   "metadata": {},
   "outputs": [
    {
     "data": {
      "text/plain": [
       "'s'"
      ]
     },
     "execution_count": 32,
     "metadata": {},
     "output_type": "execute_result"
    }
   ],
   "source": [
    "### last element\n",
    "\n",
    "string[-1]"
   ]
  },
  {
   "cell_type": "code",
   "execution_count": 33,
   "id": "107cbb5f-a486-4655-ad3e-64281edd7469",
   "metadata": {},
   "outputs": [
    {
     "data": {
      "text/plain": [
       "'s'"
      ]
     },
     "execution_count": 33,
     "metadata": {},
     "output_type": "execute_result"
    }
   ],
   "source": [
    "string[-1:]"
   ]
  },
  {
   "cell_type": "code",
   "execution_count": 34,
   "id": "65f8049a-c411-42f1-a97d-a4c9b7ca933a",
   "metadata": {},
   "outputs": [
    {
     "data": {
      "text/plain": [
       "'ers'"
      ]
     },
     "execution_count": 34,
     "metadata": {},
     "output_type": "execute_result"
    }
   ],
   "source": [
    "string[-3:]"
   ]
  },
  {
   "cell_type": "code",
   "execution_count": 35,
   "id": "cbbe28c0-52e1-438c-a0ef-0d980087255c",
   "metadata": {},
   "outputs": [
    {
     "data": {
      "text/plain": [
       "'Mast'"
      ]
     },
     "execution_count": 35,
     "metadata": {},
     "output_type": "execute_result"
    }
   ],
   "source": [
    "string[-7:-3]"
   ]
  },
  {
   "cell_type": "code",
   "execution_count": 7,
   "id": "1e773ebd-b40b-46d7-8013-b044bf8beeb3",
   "metadata": {},
   "outputs": [
    {
     "data": {
      "text/plain": [
       "''"
      ]
     },
     "execution_count": 7,
     "metadata": {},
     "output_type": "execute_result"
    }
   ],
   "source": [
    "string=\"Data Science Masters\"\n",
    "string[-7:2]"
   ]
  },
  {
   "cell_type": "code",
   "execution_count": 15,
   "id": "f7c7a20c-731f-46ef-a62d-65a4649c48ae",
   "metadata": {},
   "outputs": [
    {
     "data": {
      "text/plain": [
       "''"
      ]
     },
     "execution_count": 15,
     "metadata": {},
     "output_type": "execute_result"
    }
   ],
   "source": [
    "string[8:7]"
   ]
  },
  {
   "cell_type": "code",
   "execution_count": 42,
   "id": "4cf8e6cc-3205-4911-a6d5-4c58e66bd567",
   "metadata": {},
   "outputs": [
    {
     "data": {
      "text/plain": [
       "'Data Science Master'"
      ]
     },
     "execution_count": 42,
     "metadata": {},
     "output_type": "execute_result"
    }
   ],
   "source": [
    "string[:-1]"
   ]
  },
  {
   "cell_type": "code",
   "execution_count": 43,
   "id": "01cc3cb9-3305-432b-8dd9-cfa6f1fcf7ca",
   "metadata": {},
   "outputs": [
    {
     "data": {
      "text/plain": [
       "'Data Science Masters'"
      ]
     },
     "execution_count": 43,
     "metadata": {},
     "output_type": "execute_result"
    }
   ],
   "source": [
    "string[:]"
   ]
  },
  {
   "cell_type": "code",
   "execution_count": 1,
   "id": "f39b24f9-f6a9-4dbb-a401-baa3e6fbb329",
   "metadata": {},
   "outputs": [
    {
     "data": {
      "text/plain": [
       "''"
      ]
     },
     "execution_count": 1,
     "metadata": {},
     "output_type": "execute_result"
    }
   ],
   "source": [
    "name=\"karthik\"\n",
    "name[5:4]"
   ]
  },
  {
   "cell_type": "code",
   "execution_count": 2,
   "id": "a3898e5f-1374-4f50-afa2-9e95d4df9c19",
   "metadata": {},
   "outputs": [
    {
     "data": {
      "text/plain": [
       "'rt'"
      ]
     },
     "execution_count": 2,
     "metadata": {},
     "output_type": "execute_result"
    }
   ],
   "source": [
    "name[-5:4]"
   ]
  },
  {
   "cell_type": "code",
   "execution_count": 8,
   "id": "4db3d479-75f3-481a-a5ff-582f38a90420",
   "metadata": {},
   "outputs": [
    {
     "data": {
      "text/plain": [
       "'Data Science Masters'"
      ]
     },
     "execution_count": 8,
     "metadata": {},
     "output_type": "execute_result"
    }
   ],
   "source": [
    "string"
   ]
  },
  {
   "cell_type": "code",
   "execution_count": 9,
   "id": "3b7781f9-c5ea-4c21-b0d4-37b0a0b5b93e",
   "metadata": {},
   "outputs": [
    {
     "data": {
      "text/plain": [
       "'Data Science Masters'"
      ]
     },
     "execution_count": 9,
     "metadata": {},
     "output_type": "execute_result"
    }
   ],
   "source": [
    "string[:]"
   ]
  },
  {
   "cell_type": "code",
   "execution_count": 10,
   "id": "bd40464b-14fd-43ef-b3a9-34b12332d529",
   "metadata": {},
   "outputs": [
    {
     "data": {
      "text/plain": [
       "'Data Science Masters'"
      ]
     },
     "execution_count": 10,
     "metadata": {},
     "output_type": "execute_result"
    }
   ],
   "source": [
    "string[::]"
   ]
  },
  {
   "cell_type": "code",
   "execution_count": 16,
   "id": "fbad01ad-400e-4f09-82ba-d93c716d59c8",
   "metadata": {},
   "outputs": [
    {
     "data": {
      "text/plain": [
       "'sretsaM ecneicS ataD'"
      ]
     },
     "execution_count": 16,
     "metadata": {},
     "output_type": "execute_result"
    }
   ],
   "source": [
    "### reverses string\n",
    "\n",
    "string[::-1]"
   ]
  },
  {
   "cell_type": "code",
   "execution_count": 12,
   "id": "dd666d9a-7880-4dbd-ac34-42073bfcd19e",
   "metadata": {},
   "outputs": [
    {
     "data": {
      "text/plain": [
       "'sesMeniSaa'"
      ]
     },
     "execution_count": 12,
     "metadata": {},
     "output_type": "execute_result"
    }
   ],
   "source": [
    "string[::-2]"
   ]
  },
  {
   "cell_type": "code",
   "execution_count": 20,
   "id": "097326d3-39e8-4f57-bdf5-73ea61dd7a34",
   "metadata": {},
   "outputs": [
    {
     "data": {
      "text/plain": [
       "'stMci a'"
      ]
     },
     "execution_count": 20,
     "metadata": {},
     "output_type": "execute_result"
    }
   ],
   "source": [
    "string=\"Data Science Masters\"\n",
    "\n",
    "string[::-3]"
   ]
  },
  {
   "cell_type": "code",
   "execution_count": 22,
   "id": "5b9383a5-7ffa-467a-bba3-83f75de41494",
   "metadata": {},
   "outputs": [],
   "source": [
    "string=\"PW Skills Data Science\""
   ]
  },
  {
   "cell_type": "code",
   "execution_count": 24,
   "id": "e5f32433-21db-40e1-b8d4-e3c23987c2c9",
   "metadata": {},
   "outputs": [
    {
     "data": {
      "text/plain": [
       "'eniSaa liSW'"
      ]
     },
     "execution_count": 24,
     "metadata": {},
     "output_type": "execute_result"
    }
   ],
   "source": [
    "string[::-2]\n",
    "      "
   ]
  },
  {
   "cell_type": "code",
   "execution_count": 25,
   "id": "9bd12807-07f3-4c8f-816e-b4af40181254",
   "metadata": {},
   "outputs": [
    {
     "data": {
      "text/plain": [
       "'eeSt lSP'"
      ]
     },
     "execution_count": 25,
     "metadata": {},
     "output_type": "execute_result"
    }
   ],
   "source": [
    "string[::-3]"
   ]
  },
  {
   "cell_type": "code",
   "execution_count": 29,
   "id": "8ba164de-f9b8-4c1e-8281-a65fc34a4311",
   "metadata": {},
   "outputs": [
    {
     "data": {
      "text/plain": [
       "'rt'"
      ]
     },
     "execution_count": 29,
     "metadata": {},
     "output_type": "execute_result"
    }
   ],
   "source": [
    "str1=\"karthik\"\n",
    "str1[-5:4]"
   ]
  },
  {
   "cell_type": "code",
   "execution_count": 30,
   "id": "42828592-9754-4491-87a6-25a0552cc015",
   "metadata": {},
   "outputs": [
    {
     "data": {
      "text/plain": [
       "''"
      ]
     },
     "execution_count": 30,
     "metadata": {},
     "output_type": "execute_result"
    }
   ],
   "source": [
    "str1[-5:2]"
   ]
  },
  {
   "cell_type": "code",
   "execution_count": 32,
   "id": "50bbb674-8cd6-4303-9c96-20ce1ddaeb2e",
   "metadata": {},
   "outputs": [
    {
     "data": {
      "text/plain": [
       "'khrk'"
      ]
     },
     "execution_count": 32,
     "metadata": {},
     "output_type": "execute_result"
    }
   ],
   "source": [
    "str1[::-2]"
   ]
  },
  {
   "cell_type": "code",
   "execution_count": 33,
   "id": "88670478-74b1-4e72-8b6b-0eab888f22d3",
   "metadata": {},
   "outputs": [
    {
     "data": {
      "text/plain": [
       "'ktk'"
      ]
     },
     "execution_count": 33,
     "metadata": {},
     "output_type": "execute_result"
    }
   ],
   "source": [
    "str1[::-3]"
   ]
  },
  {
   "cell_type": "code",
   "execution_count": 34,
   "id": "2d7996c5-6d55-483b-b1d3-edea7c8141c1",
   "metadata": {},
   "outputs": [
    {
     "data": {
      "text/plain": [
       "'krhk'"
      ]
     },
     "execution_count": 34,
     "metadata": {},
     "output_type": "execute_result"
    }
   ],
   "source": [
    "str1[::2]"
   ]
  },
  {
   "cell_type": "code",
   "execution_count": 1,
   "id": "cdb9c8a9-3d96-4f50-a232-6f3403c24071",
   "metadata": {},
   "outputs": [],
   "source": [
    "str2=\"Sambhav\"\n"
   ]
  },
  {
   "cell_type": "code",
   "execution_count": 36,
   "id": "3c2d2d78-de14-4c04-8cd0-ed6bb68305d2",
   "metadata": {},
   "outputs": [
    {
     "data": {
      "text/plain": [
       "'av'"
      ]
     },
     "execution_count": 36,
     "metadata": {},
     "output_type": "execute_result"
    }
   ],
   "source": [
    "str2[-2:]"
   ]
  },
  {
   "cell_type": "code",
   "execution_count": 2,
   "id": "d2e1088d-eb7e-4dd7-b179-004171f54c16",
   "metadata": {},
   "outputs": [
    {
     "data": {
      "text/plain": [
       "'av'"
      ]
     },
     "execution_count": 2,
     "metadata": {},
     "output_type": "execute_result"
    }
   ],
   "source": [
    "str2[-2::]"
   ]
  },
  {
   "cell_type": "code",
   "execution_count": 3,
   "id": "fd59f4af-14c1-4fcf-81db-5adc23da65df",
   "metadata": {},
   "outputs": [],
   "source": [
    "string=\"Data Science Masters\""
   ]
  },
  {
   "cell_type": "code",
   "execution_count": 9,
   "id": "a2fbe84e-f678-48fc-9e66-6b19c4767ebd",
   "metadata": {},
   "outputs": [
    {
     "data": {
      "text/plain": [
       "'cS '"
      ]
     },
     "execution_count": 9,
     "metadata": {},
     "output_type": "execute_result"
    }
   ],
   "source": [
    "string[6:3:-1]"
   ]
  },
  {
   "cell_type": "code",
   "execution_count": 7,
   "id": "89bb9603-eacf-41e4-ad18-1913f4d29c80",
   "metadata": {},
   "outputs": [
    {
     "data": {
      "text/plain": [
       "'stMci a'"
      ]
     },
     "execution_count": 7,
     "metadata": {},
     "output_type": "execute_result"
    }
   ],
   "source": [
    "string[::-3]"
   ]
  },
  {
   "cell_type": "code",
   "execution_count": 2,
   "id": "015a3574-c049-4f31-a50b-57b8ea5ab646",
   "metadata": {},
   "outputs": [],
   "source": [
    "string=\"Data Science Masters\""
   ]
  },
  {
   "cell_type": "code",
   "execution_count": 3,
   "id": "0ab63901-c70f-4867-ae61-cfc1543ec9bf",
   "metadata": {},
   "outputs": [
    {
     "data": {
      "text/plain": [
       "'sesMeniSaa'"
      ]
     },
     "execution_count": 3,
     "metadata": {},
     "output_type": "execute_result"
    }
   ],
   "source": [
    "string[::-2]"
   ]
  },
  {
   "cell_type": "code",
   "execution_count": 2,
   "id": "1599a011-57c5-4cd7-b4bd-3fc3372e8860",
   "metadata": {},
   "outputs": [],
   "source": [
    "string2=\"Swati\""
   ]
  },
  {
   "cell_type": "code",
   "execution_count": 3,
   "id": "99054c49-8e7e-4e8c-95d0-078e3ea3beb2",
   "metadata": {},
   "outputs": [
    {
     "data": {
      "text/plain": [
       "'iaS'"
      ]
     },
     "execution_count": 3,
     "metadata": {},
     "output_type": "execute_result"
    }
   ],
   "source": [
    "string2[::-2]"
   ]
  },
  {
   "cell_type": "code",
   "execution_count": 4,
   "id": "511f42d1-72f5-4150-948e-564e1b1fb784",
   "metadata": {},
   "outputs": [
    {
     "data": {
      "text/plain": [
       "'iw'"
      ]
     },
     "execution_count": 4,
     "metadata": {},
     "output_type": "execute_result"
    }
   ],
   "source": [
    "string2[::-3]"
   ]
  },
  {
   "cell_type": "code",
   "execution_count": 6,
   "id": "d0d1b083-46b4-473a-9b3a-a38fe9564608",
   "metadata": {},
   "outputs": [
    {
     "data": {
      "text/plain": [
       "'awS'"
      ]
     },
     "execution_count": 6,
     "metadata": {},
     "output_type": "execute_result"
    }
   ],
   "source": [
    "string2[2::-1]"
   ]
  },
  {
   "cell_type": "code",
   "execution_count": 7,
   "id": "833c534a-3aeb-4ed3-94d7-248e4d2a16e7",
   "metadata": {},
   "outputs": [
    {
     "data": {
      "text/plain": [
       "'tawS'"
      ]
     },
     "execution_count": 7,
     "metadata": {},
     "output_type": "execute_result"
    }
   ],
   "source": [
    "string2[3::-1]"
   ]
  },
  {
   "cell_type": "code",
   "execution_count": 5,
   "id": "b5fe22ee-72c2-421f-89c5-b09d408d448b",
   "metadata": {},
   "outputs": [],
   "source": [
    "course_name=\"Data Science Masters\""
   ]
  },
  {
   "cell_type": "code",
   "execution_count": 6,
   "id": "35b0fa00-cfe3-421f-b734-c73b8cbcdff2",
   "metadata": {},
   "outputs": [
    {
     "data": {
      "text/plain": [
       "'Science'"
      ]
     },
     "execution_count": 6,
     "metadata": {},
     "output_type": "execute_result"
    }
   ],
   "source": [
    "course_name[5:12]"
   ]
  },
  {
   "cell_type": "code",
   "execution_count": 7,
   "id": "116b0c74-73f8-43f0-afbe-4d3e836de0e5",
   "metadata": {},
   "outputs": [
    {
     "data": {
      "text/plain": [
       "'ecneicS'"
      ]
     },
     "execution_count": 7,
     "metadata": {},
     "output_type": "execute_result"
    }
   ],
   "source": [
    "course_name[11:4:-1]"
   ]
  },
  {
   "cell_type": "code",
   "execution_count": 8,
   "id": "29ab2f79-2f6c-4760-8585-b4134e6b9593",
   "metadata": {},
   "outputs": [
    {
     "data": {
      "text/plain": [
       "'ecneicS ataD'"
      ]
     },
     "execution_count": 8,
     "metadata": {},
     "output_type": "execute_result"
    }
   ],
   "source": [
    "course_name[11::-1]"
   ]
  },
  {
   "cell_type": "code",
   "execution_count": 9,
   "id": "1a3a9772-290d-4803-ac97-27813d4598f1",
   "metadata": {},
   "outputs": [
    {
     "data": {
      "text/plain": [
       "'ecneicS'"
      ]
     },
     "execution_count": 9,
     "metadata": {},
     "output_type": "execute_result"
    }
   ],
   "source": [
    "course_name[11:4:-1]"
   ]
  },
  {
   "cell_type": "code",
   "execution_count": 6,
   "id": "cdc8f519-5f13-4a9a-b042-8de7d76bc78a",
   "metadata": {},
   "outputs": [],
   "source": [
    "course_name=\"Data Science Masters\"\n"
   ]
  },
  {
   "cell_type": "code",
   "execution_count": 7,
   "id": "65a7e909-946b-4308-aadf-f41e418bbf16",
   "metadata": {},
   "outputs": [
    {
     "data": {
      "text/plain": [
       "'Data Science Masters course '"
      ]
     },
     "execution_count": 7,
     "metadata": {},
     "output_type": "execute_result"
    }
   ],
   "source": [
    "## Concatination\n",
    "\n",
    "course_name + \" course \""
   ]
  },
  {
   "cell_type": "code",
   "execution_count": 8,
   "id": "248456e5-8ca8-4faa-bd87-b7c4d314232a",
   "metadata": {},
   "outputs": [
    {
     "name": "stdout",
     "output_type": "stream",
     "text": [
      "HelloWorld\n"
     ]
    }
   ],
   "source": [
    "print( \"Hello\" + \"World\")"
   ]
  },
  {
   "cell_type": "code",
   "execution_count": 9,
   "id": "fb23d368-3d7c-4b17-ba4c-eaaedbd7b625",
   "metadata": {},
   "outputs": [
    {
     "data": {
      "text/plain": [
       "'Data Science Masters'"
      ]
     },
     "execution_count": 9,
     "metadata": {},
     "output_type": "execute_result"
    }
   ],
   "source": [
    "course_name"
   ]
  },
  {
   "cell_type": "code",
   "execution_count": 10,
   "id": "a7e48606-9250-49c7-8130-9d9db11d3e79",
   "metadata": {},
   "outputs": [
    {
     "data": {
      "text/plain": [
       "'Data Science MastersData Science MastersData Science MastersData Science MastersData Science Masters'"
      ]
     },
     "execution_count": 10,
     "metadata": {},
     "output_type": "execute_result"
    }
   ],
   "source": [
    "course_name*5"
   ]
  },
  {
   "cell_type": "code",
   "execution_count": 5,
   "id": "39b9cf22-48c7-413f-87a8-954f18c1d0bd",
   "metadata": {},
   "outputs": [],
   "source": [
    "course_name=\"Data Science Masters\""
   ]
  },
  {
   "cell_type": "code",
   "execution_count": 7,
   "id": "b3e53040-17f3-4ac0-a258-8c91318eae82",
   "metadata": {},
   "outputs": [
    {
     "data": {
      "text/plain": [
       "20"
      ]
     },
     "execution_count": 7,
     "metadata": {},
     "output_type": "execute_result"
    }
   ],
   "source": [
    "len(course_name)\n"
   ]
  },
  {
   "cell_type": "code",
   "execution_count": 8,
   "id": "17b9d479-8a91-46d6-bd25-7a1d331a2586",
   "metadata": {},
   "outputs": [
    {
     "data": {
      "text/plain": [
       "9"
      ]
     },
     "execution_count": 8,
     "metadata": {},
     "output_type": "execute_result"
    }
   ],
   "source": [
    "## find function\n",
    "\n",
    "\n",
    "course_name.find(\"n\")\n"
   ]
  },
  {
   "cell_type": "code",
   "execution_count": 10,
   "id": "915db950-366a-4fb4-a829-6cb76d1bb47c",
   "metadata": {},
   "outputs": [
    {
     "data": {
      "text/plain": [
       "13"
      ]
     },
     "execution_count": 10,
     "metadata": {},
     "output_type": "execute_result"
    }
   ],
   "source": [
    "course_name.find(\"M\")"
   ]
  },
  {
   "cell_type": "code",
   "execution_count": 12,
   "id": "71c4ec63-48bc-4ac4-a1d1-96aff527fa92",
   "metadata": {},
   "outputs": [
    {
     "data": {
      "text/plain": [
       "3"
      ]
     },
     "execution_count": 12,
     "metadata": {},
     "output_type": "execute_result"
    }
   ],
   "source": [
    "course_name.find(\"a\", 2, 14)"
   ]
  },
  {
   "cell_type": "code",
   "execution_count": 13,
   "id": "0cd464a6-72a7-4a10-82a2-d556b6683425",
   "metadata": {},
   "outputs": [
    {
     "data": {
      "text/plain": [
       "-1"
      ]
     },
     "execution_count": 13,
     "metadata": {},
     "output_type": "execute_result"
    }
   ],
   "source": [
    "course_name.find(\"z\")"
   ]
  },
  {
   "cell_type": "code",
   "execution_count": 26,
   "id": "1931e627-47b4-4d44-8836-8742de181864",
   "metadata": {},
   "outputs": [
    {
     "data": {
      "text/plain": [
       "3"
      ]
     },
     "execution_count": 26,
     "metadata": {},
     "output_type": "execute_result"
    }
   ],
   "source": [
    "course_name.find(\"a\", 3, 8)"
   ]
  },
  {
   "cell_type": "code",
   "execution_count": 27,
   "id": "ec9f563c-2669-4882-a416-2ec31202f743",
   "metadata": {},
   "outputs": [
    {
     "data": {
      "text/plain": [
       "13"
      ]
     },
     "execution_count": 27,
     "metadata": {},
     "output_type": "execute_result"
    }
   ],
   "source": [
    "course_name.find(\"Masters\")"
   ]
  },
  {
   "cell_type": "code",
   "execution_count": 14,
   "id": "545766cd-4c20-46f5-8dc7-527b1ecc6f2e",
   "metadata": {},
   "outputs": [
    {
     "data": {
      "text/plain": [
       "3"
      ]
     },
     "execution_count": 14,
     "metadata": {},
     "output_type": "execute_result"
    }
   ],
   "source": [
    "## count\n",
    "\n",
    "course_name.count(\"a\")"
   ]
  },
  {
   "cell_type": "code",
   "execution_count": 15,
   "id": "fd77f2d0-1e68-43b7-9129-143e2c384fd8",
   "metadata": {},
   "outputs": [
    {
     "data": {
      "text/plain": [
       "2"
      ]
     },
     "execution_count": 15,
     "metadata": {},
     "output_type": "execute_result"
    }
   ],
   "source": [
    "course_name.count(\"s\")"
   ]
  },
  {
   "cell_type": "code",
   "execution_count": 18,
   "id": "5091c6a5-e3de-4b76-a129-4c0b65e0e480",
   "metadata": {},
   "outputs": [
    {
     "data": {
      "text/plain": [
       "21"
      ]
     },
     "execution_count": 18,
     "metadata": {},
     "output_type": "execute_result"
    }
   ],
   "source": [
    "course_name.count(\"\")"
   ]
  },
  {
   "cell_type": "code",
   "execution_count": 23,
   "id": "6b687da7-5d0b-486b-8408-31d0d7d15b37",
   "metadata": {},
   "outputs": [
    {
     "data": {
      "text/plain": [
       "2"
      ]
     },
     "execution_count": 23,
     "metadata": {},
     "output_type": "execute_result"
    }
   ],
   "source": [
    "course_name.count(\" \")"
   ]
  },
  {
   "cell_type": "code",
   "execution_count": 24,
   "id": "8a676af6-31d4-4b5e-8297-a7054a82a3b7",
   "metadata": {},
   "outputs": [
    {
     "data": {
      "text/plain": [
       "1"
      ]
     },
     "execution_count": 24,
     "metadata": {},
     "output_type": "execute_result"
    }
   ],
   "source": [
    "course_name.find(\"a\")"
   ]
  },
  {
   "cell_type": "code",
   "execution_count": 28,
   "id": "79245775-d225-47ee-8e1e-03354381c7d4",
   "metadata": {},
   "outputs": [],
   "source": [
    "#string split functiom"
   ]
  },
  {
   "cell_type": "code",
   "execution_count": 29,
   "id": "d5ba5078-6da6-4be5-8423-917d5ad6bc0a",
   "metadata": {},
   "outputs": [
    {
     "data": {
      "text/plain": [
       "['Data', 'Science', 'Masters']"
      ]
     },
     "execution_count": 29,
     "metadata": {},
     "output_type": "execute_result"
    }
   ],
   "source": [
    "course_name.split(\" \")"
   ]
  },
  {
   "cell_type": "code",
   "execution_count": 30,
   "id": "c8f7e334-5808-4114-84cb-cc31cffd70cf",
   "metadata": {},
   "outputs": [
    {
     "data": {
      "text/plain": [
       "'Data Science Masters'"
      ]
     },
     "execution_count": 30,
     "metadata": {},
     "output_type": "execute_result"
    }
   ],
   "source": [
    "course_name"
   ]
  },
  {
   "cell_type": "code",
   "execution_count": 31,
   "id": "86b14cae-a75b-4fd6-a618-3b2be00b0194",
   "metadata": {},
   "outputs": [
    {
     "data": {
      "text/plain": [
       "['Data ', 'cience Masters']"
      ]
     },
     "execution_count": 31,
     "metadata": {},
     "output_type": "execute_result"
    }
   ],
   "source": [
    "course_name.split(\"S\")"
   ]
  },
  {
   "cell_type": "code",
   "execution_count": 32,
   "id": "9e0e6e1e-f602-43bb-b553-91421cb5f0a6",
   "metadata": {},
   "outputs": [
    {
     "data": {
      "text/plain": [
       "('Data ', 'S', 'cience Masters')"
      ]
     },
     "execution_count": 32,
     "metadata": {},
     "output_type": "execute_result"
    }
   ],
   "source": [
    "course_name.partition(\"S\")"
   ]
  },
  {
   "cell_type": "code",
   "execution_count": 33,
   "id": "a00e1367-0524-4e7b-8c11-07ffe46f512c",
   "metadata": {},
   "outputs": [
    {
     "data": {
      "text/plain": [
       "['Data Science Ma', 'ter', '']"
      ]
     },
     "execution_count": 33,
     "metadata": {},
     "output_type": "execute_result"
    }
   ],
   "source": [
    "course_name.split(\"s\")"
   ]
  },
  {
   "cell_type": "code",
   "execution_count": 34,
   "id": "4a640da3-548f-4d61-8abe-c9b22102071f",
   "metadata": {},
   "outputs": [
    {
     "data": {
      "text/plain": [
       "('Data Science Ma', 's', 'ters')"
      ]
     },
     "execution_count": 34,
     "metadata": {},
     "output_type": "execute_result"
    }
   ],
   "source": [
    "course_name.partition(\"s\")"
   ]
  },
  {
   "cell_type": "code",
   "execution_count": 40,
   "id": "759ad49f-e8ac-4bd9-88cf-19da7b84197d",
   "metadata": {},
   "outputs": [],
   "source": [
    "## String upper and lower case"
   ]
  },
  {
   "cell_type": "code",
   "execution_count": 42,
   "id": "c257fa92-7923-48e8-b506-c09302ceb563",
   "metadata": {},
   "outputs": [
    {
     "data": {
      "text/plain": [
       "'DATA SCIENCE MASTERS'"
      ]
     },
     "execution_count": 42,
     "metadata": {},
     "output_type": "execute_result"
    }
   ],
   "source": [
    "course_name.upper()"
   ]
  },
  {
   "cell_type": "code",
   "execution_count": 43,
   "id": "2e0b2af0-4b2c-48ba-904a-5fb7e14ea338",
   "metadata": {},
   "outputs": [
    {
     "data": {
      "text/plain": [
       "'data science masters'"
      ]
     },
     "execution_count": 43,
     "metadata": {},
     "output_type": "execute_result"
    }
   ],
   "source": [
    "course_name.lower()"
   ]
  },
  {
   "cell_type": "code",
   "execution_count": 44,
   "id": "35db0c10-13c2-480d-86ea-c7f80e3ff3fa",
   "metadata": {},
   "outputs": [
    {
     "data": {
      "text/plain": [
       "'dATA sCIENCE mASTERS'"
      ]
     },
     "execution_count": 44,
     "metadata": {},
     "output_type": "execute_result"
    }
   ],
   "source": [
    "course_name.swapcase()"
   ]
  },
  {
   "cell_type": "code",
   "execution_count": 45,
   "id": "3597bb42-e138-43ef-ac7a-d14a720f40b9",
   "metadata": {},
   "outputs": [
    {
     "data": {
      "text/plain": [
       "'Data Science Masters'"
      ]
     },
     "execution_count": 45,
     "metadata": {},
     "output_type": "execute_result"
    }
   ],
   "source": [
    "course_name.title()"
   ]
  },
  {
   "cell_type": "code",
   "execution_count": 47,
   "id": "ef979dcf-ccf6-4eb6-815d-1d3a02885f05",
   "metadata": {},
   "outputs": [],
   "source": [
    "name=\"swati bharati\""
   ]
  },
  {
   "cell_type": "code",
   "execution_count": 48,
   "id": "a1ff2fe2-c665-49fd-a962-45b86f85145a",
   "metadata": {},
   "outputs": [
    {
     "data": {
      "text/plain": [
       "'Swati Bharati'"
      ]
     },
     "execution_count": 48,
     "metadata": {},
     "output_type": "execute_result"
    }
   ],
   "source": [
    "name.title()"
   ]
  },
  {
   "cell_type": "code",
   "execution_count": null,
   "id": "9fc82f3e-5739-4911-b8f6-4d962bc071f2",
   "metadata": {},
   "outputs": [],
   "source": []
  },
  {
   "cell_type": "code",
   "execution_count": null,
   "id": "423d4c5d-c328-4ada-867d-9537c7e88bf4",
   "metadata": {},
   "outputs": [],
   "source": []
  },
  {
   "cell_type": "code",
   "execution_count": null,
   "id": "90753514-b328-4f15-93b7-2905457286f1",
   "metadata": {},
   "outputs": [],
   "source": []
  },
  {
   "cell_type": "code",
   "execution_count": null,
   "id": "97c7eb25-2aaf-4a5c-84dd-eef90623bbca",
   "metadata": {},
   "outputs": [],
   "source": []
  },
  {
   "cell_type": "code",
   "execution_count": null,
   "id": "51df581a-95ef-4ca4-8654-6a686232be85",
   "metadata": {},
   "outputs": [],
   "source": []
  },
  {
   "cell_type": "code",
   "execution_count": null,
   "id": "11d82b35-4925-4222-b305-d2f7c5a3c9cf",
   "metadata": {},
   "outputs": [],
   "source": []
  },
  {
   "cell_type": "code",
   "execution_count": null,
   "id": "40666860-ecd0-4262-b91f-7a2a49f26120",
   "metadata": {},
   "outputs": [],
   "source": []
  },
  {
   "cell_type": "code",
   "execution_count": null,
   "id": "6a1f07bf-ba17-47ed-ab36-97c28f17579b",
   "metadata": {},
   "outputs": [],
   "source": []
  },
  {
   "cell_type": "code",
   "execution_count": null,
   "id": "c67d727e-576a-4370-ac11-7236ec845b54",
   "metadata": {},
   "outputs": [],
   "source": []
  },
  {
   "cell_type": "code",
   "execution_count": null,
   "id": "6c148730-c087-405e-a7a8-6312d36c6b12",
   "metadata": {},
   "outputs": [],
   "source": []
  },
  {
   "cell_type": "code",
   "execution_count": null,
   "id": "9cf0c2bd-6629-4be1-b5c7-9c1f90d9e4f4",
   "metadata": {},
   "outputs": [],
   "source": []
  }
 ],
 "metadata": {
  "kernelspec": {
   "display_name": "Python 3 (ipykernel)",
   "language": "python",
   "name": "python3"
  },
  "language_info": {
   "codemirror_mode": {
    "name": "ipython",
    "version": 3
   },
   "file_extension": ".py",
   "mimetype": "text/x-python",
   "name": "python",
   "nbconvert_exporter": "python",
   "pygments_lexer": "ipython3",
   "version": "3.10.8"
  }
 },
 "nbformat": 4,
 "nbformat_minor": 5
}
