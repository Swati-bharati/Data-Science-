{
 "cells": [
  {
   "cell_type": "code",
   "execution_count": 1,
   "id": "a23298f0-3d88-43c0-b733-13f1ba2e27ab",
   "metadata": {},
   "outputs": [],
   "source": [
    "a=10"
   ]
  },
  {
   "cell_type": "code",
   "execution_count": 3,
   "id": "7826dfe7-595e-4072-a5a6-b39458760439",
   "metadata": {},
   "outputs": [],
   "source": [
    "a='c'"
   ]
  },
  {
   "cell_type": "code",
   "execution_count": 4,
   "id": "d6a23986-a15b-419c-912d-05108d4cc0da",
   "metadata": {},
   "outputs": [
    {
     "data": {
      "text/plain": [
       "str"
      ]
     },
     "execution_count": 4,
     "metadata": {},
     "output_type": "execute_result"
    }
   ],
   "source": [
    "type(a)"
   ]
  },
  {
   "cell_type": "code",
   "execution_count": 5,
   "id": "1f0f9623-a173-4e94-9366-cc91cc782c4b",
   "metadata": {},
   "outputs": [
    {
     "data": {
      "text/plain": [
       "int"
      ]
     },
     "execution_count": 5,
     "metadata": {},
     "output_type": "execute_result"
    }
   ],
   "source": [
    "int"
   ]
  },
  {
   "cell_type": "code",
   "execution_count": 6,
   "id": "bba81c00-6168-4c6d-91b6-8e8fc46fda94",
   "metadata": {},
   "outputs": [
    {
     "data": {
      "text/plain": [
       "0"
      ]
     },
     "execution_count": 6,
     "metadata": {},
     "output_type": "execute_result"
    }
   ],
   "source": [
    "int(0)"
   ]
  },
  {
   "cell_type": "code",
   "execution_count": 8,
   "id": "edb86c00-b6ed-46cf-9e17-733a0dc3609d",
   "metadata": {},
   "outputs": [
    {
     "data": {
      "text/plain": [
       "123"
      ]
     },
     "execution_count": 8,
     "metadata": {},
     "output_type": "execute_result"
    }
   ],
   "source": [
    "int('123')"
   ]
  },
  {
   "cell_type": "code",
   "execution_count": 9,
   "id": "1e58b5b1-f99b-4e82-bd87-6cc0bb01569c",
   "metadata": {},
   "outputs": [
    {
     "ename": "ValueError",
     "evalue": "invalid literal for int() with base 10: 'abc'",
     "output_type": "error",
     "traceback": [
      "\u001b[0;31m---------------------------------------------------------------------------\u001b[0m",
      "\u001b[0;31mValueError\u001b[0m                                Traceback (most recent call last)",
      "Cell \u001b[0;32mIn[9], line 1\u001b[0m\n\u001b[0;32m----> 1\u001b[0m \u001b[38;5;28;43mint\u001b[39;49m\u001b[43m(\u001b[49m\u001b[38;5;124;43m\"\u001b[39;49m\u001b[38;5;124;43mabc\u001b[39;49m\u001b[38;5;124;43m\"\u001b[39;49m\u001b[43m)\u001b[49m\n",
      "\u001b[0;31mValueError\u001b[0m: invalid literal for int() with base 10: 'abc'"
     ]
    }
   ],
   "source": [
    "int(\"abc\")"
   ]
  },
  {
   "cell_type": "code",
   "execution_count": 10,
   "id": "d3f6d39a-3fb7-4758-b753-3bd65ecc0d55",
   "metadata": {},
   "outputs": [
    {
     "name": "stdout",
     "output_type": "stream",
     "text": [
      "Hello World\n"
     ]
    }
   ],
   "source": [
    "print('Hello World')"
   ]
  },
  {
   "cell_type": "code",
   "execution_count": 11,
   "id": "9f091713-f3dc-4acf-b40a-75f1c3b52fa3",
   "metadata": {},
   "outputs": [
    {
     "name": "stdout",
     "output_type": "stream",
     "text": [
      "123\n"
     ]
    }
   ],
   "source": [
    "print(123)"
   ]
  },
  {
   "cell_type": "code",
   "execution_count": 12,
   "id": "541338a3-201f-40e4-9ca8-ed202bd2a77d",
   "metadata": {},
   "outputs": [
    {
     "name": "stdout",
     "output_type": "stream",
     "text": [
      "13\n"
     ]
    }
   ],
   "source": [
    "print('13')"
   ]
  },
  {
   "cell_type": "code",
   "execution_count": 13,
   "id": "b2bf5c96-9946-4059-bd70-4377bcd42cb7",
   "metadata": {},
   "outputs": [
    {
     "name": "stdout",
     "output_type": "stream",
     "text": [
      "My age is :  30\n"
     ]
    }
   ],
   "source": [
    "age=30\n",
    "print( \"My age is : \", age)"
   ]
  },
  {
   "cell_type": "code",
   "execution_count": 16,
   "id": "265fe703-d91c-4004-a74e-c5528f6634f4",
   "metadata": {},
   "outputs": [
    {
     "name": "stdout",
     "output_type": "stream",
     "text": [
      "My age is: 30\n"
     ]
    }
   ],
   "source": [
    "age=30\n",
    "print( \"My age is:\",age)"
   ]
  },
  {
   "cell_type": "code",
   "execution_count": 17,
   "id": "1a6632d1-e9e7-4f49-bf4f-a99b4182f2ed",
   "metadata": {},
   "outputs": [
    {
     "name": "stdout",
     "output_type": "stream",
     "text": [
      "My age is: {age}\n"
     ]
    }
   ],
   "source": [
    "print(\"My age is: {age}\")"
   ]
  },
  {
   "cell_type": "code",
   "execution_count": null,
   "id": "1c7d32c0-61cf-4217-a576-37ddce188c91",
   "metadata": {},
   "outputs": [],
   "source": [
    "# f for formatting\n",
    "## f string"
   ]
  },
  {
   "cell_type": "code",
   "execution_count": 18,
   "id": "388ee329-1789-4a25-8646-32fcc293456c",
   "metadata": {},
   "outputs": [
    {
     "name": "stdout",
     "output_type": "stream",
     "text": [
      "My age is: 30\n"
     ]
    }
   ],
   "source": [
    "print(f\"My age is: {age}\")"
   ]
  },
  {
   "cell_type": "code",
   "execution_count": 19,
   "id": "f935c97e-0e93-4bf9-ba70-223e6b8ee685",
   "metadata": {},
   "outputs": [
    {
     "name": "stdout",
     "output_type": "stream",
     "text": [
      "My name is Swati and age is 30\n"
     ]
    }
   ],
   "source": [
    "## format()\n",
    "name=\"Swati\"\n",
    "age=30\n",
    "print(\"My name is {} and age is {}\".format(name,age))"
   ]
  },
  {
   "cell_type": "code",
   "execution_count": 20,
   "id": "077a3c45-8c32-4ac5-9d43-c80bc4bdf554",
   "metadata": {},
   "outputs": [
    {
     "name": "stdout",
     "output_type": "stream",
     "text": [
      "My name is 30 and age is Swati\n"
     ]
    }
   ],
   "source": [
    "print(\"My name is {} and age is {}\".format(age,name))"
   ]
  },
  {
   "cell_type": "code",
   "execution_count": 21,
   "id": "71ff9591-9870-436f-a0b7-d7be356a4cb3",
   "metadata": {},
   "outputs": [
    {
     "name": "stdout",
     "output_type": "stream",
     "text": [
      "My name is Swati and age is 30\n"
     ]
    }
   ],
   "source": [
    "##placeholder--- variable\n",
    "print(\"My name is {firstname} and age is {firstage}\".format(firstname=name,firstage=age))"
   ]
  },
  {
   "cell_type": "code",
   "execution_count": 23,
   "id": "49da780e-237c-4f46-82bc-54271aec8320",
   "metadata": {},
   "outputs": [
    {
     "name": "stdout",
     "output_type": "stream",
     "text": [
      "My name is Swati and age is 30\n"
     ]
    }
   ],
   "source": [
    "print(\"My name is {firstname} and age is {firstage}\".format(firstage=age,firstname=name))"
   ]
  },
  {
   "cell_type": "code",
   "execution_count": null,
   "id": "7b47f0ea-b0f2-484c-8872-4daf852f6fd9",
   "metadata": {},
   "outputs": [],
   "source": [
    "name=\"Swati\"\n",
    "age=30\n",
    "degree=\"BE\"\n",
    "\n",
    "\"My age is 30 and i have completed: my degree of BE with the name of Swati\""
   ]
  },
  {
   "cell_type": "code",
   "execution_count": 27,
   "id": "954cc639-e818-45a7-ba20-6380b40617fe",
   "metadata": {},
   "outputs": [
    {
     "name": "stdout",
     "output_type": "stream",
     "text": [
      "My age is 30 and i have completed: my degree of BE with name Swati\n"
     ]
    }
   ],
   "source": [
    "name=\"Swati\"\n",
    "age=30\n",
    "degree=\"BE\"\n",
    "print(\"My age is {} and i have completed: my degree of {} with name {}\".format(age,degree,name))"
   ]
  },
  {
   "cell_type": "code",
   "execution_count": 28,
   "id": "42116e5b-906d-4a95-89ca-1212cf047578",
   "metadata": {},
   "outputs": [
    {
     "name": "stdout",
     "output_type": "stream",
     "text": [
      "My age is 30 and i have completed : my degree of BE with name Swati\n"
     ]
    }
   ],
   "source": [
    "name=\"Swati\"\n",
    "age=30\n",
    "degree=\"BE\"\n",
    "print(f\"My age is {age} and i have completed : my degree of {degree} with name {name}\")"
   ]
  },
  {
   "cell_type": "markdown",
   "id": "91552d42-7f3b-459b-aec2-6124459cb80f",
   "metadata": {},
   "source": [
    "### Control Flow "
   ]
  },
  {
   "cell_type": "markdown",
   "id": "d798a82d-07e4-4b04-beb5-fd1199f26be5",
   "metadata": {},
   "source": [
    "##### Decision Making Statements"
   ]
  },
  {
   "cell_type": "code",
   "execution_count": 29,
   "id": "53eb8b9e-003a-4177-900b-85ce10dac72e",
   "metadata": {},
   "outputs": [
    {
     "name": "stdout",
     "output_type": "stream",
     "text": [
      "You are eligible to vote\n"
     ]
    }
   ],
   "source": [
    "##if statements\n",
    "age=18\n",
    "if age>=18:\n",
    "    print(\"You are eligible to vote\")"
   ]
  },
  {
   "cell_type": "code",
   "execution_count": null,
   "id": "a7fd1a3a-2f1d-4c4c-9660-bf950faa6cb0",
   "metadata": {},
   "outputs": [],
   "source": [
    "## new lecture"
   ]
  },
  {
   "cell_type": "code",
   "execution_count": 2,
   "id": "517e0c93-9247-4385-acb5-5faed502e177",
   "metadata": {},
   "outputs": [
    {
     "name": "stdin",
     "output_type": "stream",
     "text": [
      "Enter the age 17\n"
     ]
    }
   ],
   "source": [
    "age=int(input('Enter the age'))\n",
    "if   age>=18 and age<=45:\n",
    "    print('You are young blood')"
   ]
  },
  {
   "cell_type": "code",
   "execution_count": 3,
   "id": "1d96d16e-4365-4bac-93a5-db8325d35ee7",
   "metadata": {},
   "outputs": [
    {
     "name": "stdin",
     "output_type": "stream",
     "text": [
      "Enter the age 30\n"
     ]
    },
    {
     "name": "stdout",
     "output_type": "stream",
     "text": [
      "You are young blood\n"
     ]
    }
   ],
   "source": [
    "age=int(input('Enter the age'))\n",
    "if   age>=18 and age<=45:\n",
    "    print('You are young blood')"
   ]
  },
  {
   "cell_type": "code",
   "execution_count": 5,
   "id": "98ebc241-134a-4572-8040-b22ebcc519d1",
   "metadata": {},
   "outputs": [
    {
     "name": "stdin",
     "output_type": "stream",
     "text": [
      "Enter the age 50\n"
     ]
    },
    {
     "name": "stdout",
     "output_type": "stream",
     "text": [
      "Your application is rejected\n"
     ]
    }
   ],
   "source": [
    "## if ekse statements\n",
    "age=int(input('Enter the age'))\n",
    "if   age>=18 and age<=45:\n",
    "    print('You are young blood')\n",
    "else:\n",
    "    print('Your application is rejected')"
   ]
  },
  {
   "cell_type": "code",
   "execution_count": 13,
   "id": "a765d923-17f8-469b-9605-b4b61d3c1a14",
   "metadata": {},
   "outputs": [
    {
     "name": "stdin",
     "output_type": "stream",
     "text": [
      "Print the product price 1500\n"
     ]
    },
    {
     "name": "stdout",
     "output_type": "stream",
     "text": [
      "The price of the product is 1200.0\n"
     ]
    }
   ],
   "source": [
    "## task\n",
    "product_price=int(input('Print the product price'))\n",
    "if  product_price>1000:\n",
    "    print('The price of the product is {}'.format(product_price*0.8))\n",
    "else:\n",
    "    print('The price of the product is {}'.format(product_price*0.7))"
   ]
  },
  {
   "cell_type": "code",
   "execution_count": 15,
   "id": "b54850e5-4d67-45e3-8529-f2e6e2debd80",
   "metadata": {},
   "outputs": [
    {
     "name": "stdin",
     "output_type": "stream",
     "text": [
      "Print the product price 300\n"
     ]
    },
    {
     "name": "stdout",
     "output_type": "stream",
     "text": [
      "The price of the product is 210.0\n"
     ]
    }
   ],
   "source": [
    "product_price=int(input('Print the product price'))\n",
    "if  product_price>1000:\n",
    "    print('The price of the product is {}'.format(product_price*0.8))\n",
    "else:\n",
    "    print('The price of the product is {}'.format(product_price*0.7))"
   ]
  },
  {
   "cell_type": "code",
   "execution_count": 18,
   "id": "d08753c0-7093-4334-a785-146f2d60f8c7",
   "metadata": {},
   "outputs": [
    {
     "name": "stdin",
     "output_type": "stream",
     "text": [
      "Print the product price 4000\n"
     ]
    },
    {
     "name": "stdout",
     "output_type": "stream",
     "text": [
      "The price of the product is 3200.0\n"
     ]
    }
   ],
   "source": [
    "product_price=int(input('Print the product price'))\n",
    "if  product_price>3000:\n",
    "    print('The price of the product is {}'.format(product_price*0.8))\n",
    "elif product_price>=2000 and product_price<=3000:\n",
    "    print('The price of the product is {}'.format(product_price*0.7))\n",
    "else: \n",
    "    print('The price of the product is {}'.format(product_price*0.6))"
   ]
  },
  {
   "cell_type": "code",
   "execution_count": 19,
   "id": "c99d8d10-0bda-4d1e-a4b7-d2e0c6490754",
   "metadata": {},
   "outputs": [
    {
     "name": "stdin",
     "output_type": "stream",
     "text": [
      "Print the product price 1800\n"
     ]
    },
    {
     "name": "stdout",
     "output_type": "stream",
     "text": [
      "The price of the product is 1080.0\n"
     ]
    }
   ],
   "source": [
    "product_price=int(input('Print the product price'))\n",
    "if  product_price>3000:\n",
    "    print('The price of the product is {}'.format(product_price*0.8))\n",
    "elif product_price>=2000 and product_price<=3000:\n",
    "    print('The price of the product is {}'.format(product_price*0.7))\n",
    "else: \n",
    "    print('The price of the product is {}'.format(product_price*0.6))"
   ]
  },
  {
   "cell_type": "code",
   "execution_count": 21,
   "id": "a38153bd-439e-4175-8dfd-c86907303929",
   "metadata": {},
   "outputs": [
    {
     "name": "stdin",
     "output_type": "stream",
     "text": [
      "Print the product price 1000\n"
     ]
    },
    {
     "name": "stdout",
     "output_type": "stream",
     "text": [
      "The price of the product is 600.0\n"
     ]
    }
   ],
   "source": [
    "product_price=int(input('Print the product price'))\n",
    "if  product_price>3000:\n",
    "    print('The price of the product is {}'.format(product_price*0.8))\n",
    "elif product_price>=2000 and product_price<=3000:\n",
    "    print(f'The price of the product is {product_price*0.7}')\n",
    "else: \n",
    "    print('The price of the product is {}'.format(product_price*0.6))"
   ]
  },
  {
   "cell_type": "code",
   "execution_count": 22,
   "id": "b2ac71ec-c123-4a7f-a8e9-5304d7d1ee6c",
   "metadata": {},
   "outputs": [
    {
     "name": "stdin",
     "output_type": "stream",
     "text": [
      "Print the product price 300\n"
     ]
    },
    {
     "name": "stdout",
     "output_type": "stream",
     "text": [
      "lets drink tea\n"
     ]
    }
   ],
   "source": [
    "product_price=int(input('Print the product price'))\n",
    "if  product_price>3000:\n",
    "    print('The price of the product is {}'.format(product_price*0.8))\n",
    "elif product_price>=2000 and product_price<=3000:\n",
    "    print(f'The price of the product is {product_price*0.7}')\n",
    "elif product_price>100 and product_price<=2000:\n",
    "    print(f'The price of the product is {product_price*0.6}')\n",
    "else: \n",
    "    print('lets drink tea')"
   ]
  },
  {
   "cell_type": "code",
   "execution_count": 29,
   "id": "2f9c9918-1a67-4485-ad73-8a0224758065",
   "metadata": {},
   "outputs": [
    {
     "name": "stdin",
     "output_type": "stream",
     "text": [
      "Print the product price 2999\n"
     ]
    },
    {
     "name": "stdout",
     "output_type": "stream",
     "text": [
      "Eligible for additional gift\n",
      "The price of the product is 2099.2999999999997\n"
     ]
    }
   ],
   "source": [
    "product_price=int(input('Print the product price'))\n",
    "if  product_price>3000:\n",
    "    print('The price of the product is {}'.format(product_price*0.8))\n",
    "elif product_price>=2000 and product_price<=3000:\n",
    "    if  product_price==2999:\n",
    "        print('Eligible for additional gift')\n",
    "    print(f'The price of the product is {product_price*0.7}')\n",
    "elif product_price>100 and product_price<=2000:\n",
    "    print(f'The price of the product is {product_price*0.6}')\n",
    "elif product_price==2999:\n",
    "    print('Eligible for additional gift')\n",
    "else: \n",
    "    print('lets drink tea')"
   ]
  },
  {
   "cell_type": "code",
   "execution_count": 30,
   "id": "11866aca-2dc3-4df0-a736-07280cdf4e71",
   "metadata": {},
   "outputs": [
    {
     "name": "stdin",
     "output_type": "stream",
     "text": [
      "Print the product price 4000\n"
     ]
    },
    {
     "name": "stdout",
     "output_type": "stream",
     "text": [
      "Congratulations you are eligible for a Goa Trip\n",
      "The price of the product is 3200.0\n"
     ]
    }
   ],
   "source": [
    "product_price=int(input('Print the product price'))\n",
    "if  product_price>3000:\n",
    "    if product_price==4000:\n",
    "        print('Congratulations you are eligible for a Goa Trip')\n",
    "    print('The price of the product is {}'.format(product_price*0.8))\n",
    "elif product_price>=2000 and product_price<=3000:\n",
    "    if  product_price==2999:\n",
    "        print('Eligible for additional gift')\n",
    "    print(f'The price of the product is {product_price*0.7}')\n",
    "elif product_price>100 and product_price<=2000:\n",
    "    print(f'The price of the product is {product_price*0.6}')\n",
    "elif product_price==2999:\n",
    "    print('Eligible for additional gift')\n",
    "else: \n",
    "    print('lets drink tea')"
   ]
  },
  {
   "cell_type": "code",
   "execution_count": 33,
   "id": "aa37a004-5289-4e34-8a5f-95039cc1c381",
   "metadata": {},
   "outputs": [
    {
     "name": "stdout",
     "output_type": "stream",
     "text": [
      "True\n"
     ]
    }
   ],
   "source": [
    "## Comparison operstor\n",
    "print(True==True)"
   ]
  },
  {
   "cell_type": "code",
   "execution_count": 35,
   "id": "9449a9e9-4b00-49cf-ac5d-3f762e0dfaf0",
   "metadata": {},
   "outputs": [
    {
     "name": "stdin",
     "output_type": "stream",
     "text": [
      "Enter the number 400\n"
     ]
    },
    {
     "name": "stdout",
     "output_type": "stream",
     "text": [
      "Value is ess than equal to 999\n"
     ]
    }
   ],
   "source": [
    "## Single statement suites\n",
    "val=int(input('Enter the number'))\n",
    "if val<=999:print('Value is ess than equal to 999')  "
   ]
  },
  {
   "cell_type": "code",
   "execution_count": 36,
   "id": "6a793e1c-46a3-4ec1-991c-2abf0998a08a",
   "metadata": {},
   "outputs": [
    {
     "name": "stdin",
     "output_type": "stream",
     "text": [
      "Enter the number 1091\n"
     ]
    },
    {
     "name": "stdout",
     "output_type": "stream",
     "text": [
      "Go home\n"
     ]
    }
   ],
   "source": [
    "val=int(input('Enter the number'))\n",
    "if val<=999:print('Value is ess than equal to 999')  \n",
    "else:\n",
    "    print('Go home')"
   ]
  },
  {
   "cell_type": "code",
   "execution_count": null,
   "id": "75e8a6b8-d953-41f1-9f5a-9f322a51c316",
   "metadata": {},
   "outputs": [],
   "source": []
  },
  {
   "cell_type": "code",
   "execution_count": null,
   "id": "f83750ca-c905-4f2f-a421-8350668b1b43",
   "metadata": {},
   "outputs": [],
   "source": []
  },
  {
   "cell_type": "code",
   "execution_count": null,
   "id": "f49e797d-6153-48f6-9e75-2d0760f86aeb",
   "metadata": {},
   "outputs": [],
   "source": []
  },
  {
   "cell_type": "code",
   "execution_count": null,
   "id": "d619f5cd-ab87-4eea-a958-5703fc52e3de",
   "metadata": {},
   "outputs": [],
   "source": []
  },
  {
   "cell_type": "code",
   "execution_count": null,
   "id": "68c62b19-819c-4e00-9cec-e85580502597",
   "metadata": {},
   "outputs": [],
   "source": []
  },
  {
   "cell_type": "code",
   "execution_count": null,
   "id": "42a09077-1675-408a-aef2-66c2d2a0e5b1",
   "metadata": {},
   "outputs": [],
   "source": []
  },
  {
   "cell_type": "code",
   "execution_count": null,
   "id": "0e43801c-6e02-4db3-bed3-5f8796e52ba7",
   "metadata": {},
   "outputs": [],
   "source": []
  },
  {
   "cell_type": "code",
   "execution_count": null,
   "id": "b195d7a5-707e-4d9e-baf5-e7a40d635ec0",
   "metadata": {},
   "outputs": [],
   "source": []
  }
 ],
 "metadata": {
  "kernelspec": {
   "display_name": "Python 3 (ipykernel)",
   "language": "python",
   "name": "python3"
  },
  "language_info": {
   "codemirror_mode": {
    "name": "ipython",
    "version": 3
   },
   "file_extension": ".py",
   "mimetype": "text/x-python",
   "name": "python",
   "nbconvert_exporter": "python",
   "pygments_lexer": "ipython3",
   "version": "3.10.8"
  }
 },
 "nbformat": 4,
 "nbformat_minor": 5
}
